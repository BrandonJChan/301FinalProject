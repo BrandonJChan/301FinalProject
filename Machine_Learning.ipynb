{
  "nbformat": 4,
  "nbformat_minor": 0,
  "metadata": {
    "colab": {
      "name": "Machine Learning.ipynb",
      "provenance": [],
      "collapsed_sections": [],
      "authorship_tag": "ABX9TyMCWyxwdQ+VRJk6OZy0sF8f",
      "include_colab_link": true
    },
    "kernelspec": {
      "name": "python3",
      "display_name": "Python 3"
    }
  },
  "cells": [
    {
      "cell_type": "markdown",
      "metadata": {
        "id": "view-in-github",
        "colab_type": "text"
      },
      "source": [
        "<a href=\"https://colab.research.google.com/github/BrandonJChan/301FinalProject/blob/master/Machine_Learning.ipynb\" target=\"_parent\"><img src=\"https://colab.research.google.com/assets/colab-badge.svg\" alt=\"Open In Colab\"/></a>"
      ]
    },
    {
      "cell_type": "markdown",
      "metadata": {
        "id": "TvOF-6dAiKxW",
        "colab_type": "text"
      },
      "source": [
        "#**Predicting How Much I Like A Song**"
      ]
    },
    {
      "cell_type": "code",
      "metadata": {
        "id": "VqBo2anliL26",
        "colab_type": "code",
        "colab": {}
      },
      "source": [
        "import pandas as pd\n",
        "import numpy as np\n",
        "import seaborn as sns\n",
        "from matplotlib import pyplot as plt\n",
        "from google.colab import files\n",
        "from sklearn.pipeline import make_pipeline\n",
        "from sklearn.compose import make_column_transformer\n",
        "from sklearn.metrics import mean_squared_error\n",
        "from sklearn.model_selection import cross_val_score, GridSearchCV\n",
        "from sklearn.linear_model import LinearRegression, Ridge\n",
        "from sklearn.neighbors import KNeighborsRegressor\n",
        "from sklearn.preprocessing import StandardScaler, OneHotEncoder, MinMaxScaler, Normalizer\n",
        "from sklearn.feature_extraction.text import TfidfVectorizer\n",
        "from sklearn.ensemble import VotingRegressor, StackingRegressor"
      ],
      "execution_count": 0,
      "outputs": []
    },
    {
      "cell_type": "code",
      "metadata": {
        "id": "G0UBTFsiiPnk",
        "colab_type": "code",
        "outputId": "0c2e52d3-1373-4697-ceb1-cc72e7f10b7d",
        "colab": {
          "base_uri": "https://localhost:8080/",
          "height": 204
        }
      },
      "source": [
        "spotify_df = pd.read_csv('https://github.com/BrandonJChan/301FinalProject/blob/master/Data/final.csv?raw=true')\n",
        "spotify_df.head()"
      ],
      "execution_count": 2,
      "outputs": [
        {
          "output_type": "execute_result",
          "data": {
            "text/html": [
              "<div>\n",
              "<style scoped>\n",
              "    .dataframe tbody tr th:only-of-type {\n",
              "        vertical-align: middle;\n",
              "    }\n",
              "\n",
              "    .dataframe tbody tr th {\n",
              "        vertical-align: top;\n",
              "    }\n",
              "\n",
              "    .dataframe thead th {\n",
              "        text-align: right;\n",
              "    }\n",
              "</style>\n",
              "<table border=\"1\" class=\"dataframe\">\n",
              "  <thead>\n",
              "    <tr style=\"text-align: right;\">\n",
              "      <th></th>\n",
              "      <th>trackName</th>\n",
              "      <th>artistName</th>\n",
              "      <th>msPlayed</th>\n",
              "      <th>duration_ms</th>\n",
              "      <th>plays</th>\n",
              "      <th>explicit</th>\n",
              "      <th>popularity</th>\n",
              "      <th>danceability</th>\n",
              "      <th>energy</th>\n",
              "      <th>key</th>\n",
              "      <th>loudness</th>\n",
              "      <th>mode</th>\n",
              "      <th>speechiness</th>\n",
              "      <th>acousticness</th>\n",
              "      <th>instrumentalness</th>\n",
              "      <th>liveness</th>\n",
              "      <th>valence</th>\n",
              "      <th>tempo</th>\n",
              "      <th>time_signature</th>\n",
              "    </tr>\n",
              "  </thead>\n",
              "  <tbody>\n",
              "    <tr>\n",
              "      <th>0</th>\n",
              "      <td>Say It (feat. Tove Lo)</td>\n",
              "      <td>Flume</td>\n",
              "      <td>15502360</td>\n",
              "      <td>262521</td>\n",
              "      <td>59.051885</td>\n",
              "      <td>1</td>\n",
              "      <td>62</td>\n",
              "      <td>0.598</td>\n",
              "      <td>0.532</td>\n",
              "      <td>3</td>\n",
              "      <td>-6.833</td>\n",
              "      <td>0</td>\n",
              "      <td>0.0295</td>\n",
              "      <td>0.0668</td>\n",
              "      <td>0.000003</td>\n",
              "      <td>0.0617</td>\n",
              "      <td>0.2610</td>\n",
              "      <td>74.963</td>\n",
              "      <td>4</td>\n",
              "    </tr>\n",
              "    <tr>\n",
              "      <th>1</th>\n",
              "      <td>Freudian</td>\n",
              "      <td>Daniel Caesar</td>\n",
              "      <td>11709180</td>\n",
              "      <td>602297</td>\n",
              "      <td>19.440874</td>\n",
              "      <td>1</td>\n",
              "      <td>54</td>\n",
              "      <td>0.355</td>\n",
              "      <td>0.298</td>\n",
              "      <td>8</td>\n",
              "      <td>-12.277</td>\n",
              "      <td>1</td>\n",
              "      <td>0.0581</td>\n",
              "      <td>0.3100</td>\n",
              "      <td>0.002660</td>\n",
              "      <td>0.1850</td>\n",
              "      <td>0.0714</td>\n",
              "      <td>115.823</td>\n",
              "      <td>3</td>\n",
              "    </tr>\n",
              "    <tr>\n",
              "      <th>2</th>\n",
              "      <td>Feel Good (feat. Daya)</td>\n",
              "      <td>Gryffin</td>\n",
              "      <td>10724803</td>\n",
              "      <td>248156</td>\n",
              "      <td>43.217988</td>\n",
              "      <td>0</td>\n",
              "      <td>72</td>\n",
              "      <td>0.625</td>\n",
              "      <td>0.707</td>\n",
              "      <td>2</td>\n",
              "      <td>-4.761</td>\n",
              "      <td>1</td>\n",
              "      <td>0.0337</td>\n",
              "      <td>0.2200</td>\n",
              "      <td>0.000000</td>\n",
              "      <td>0.2130</td>\n",
              "      <td>0.4790</td>\n",
              "      <td>138.064</td>\n",
              "      <td>4</td>\n",
              "    </tr>\n",
              "    <tr>\n",
              "      <th>3</th>\n",
              "      <td>Never Be Like You (feat. Kai)</td>\n",
              "      <td>Flume</td>\n",
              "      <td>8174487</td>\n",
              "      <td>234910</td>\n",
              "      <td>34.798378</td>\n",
              "      <td>1</td>\n",
              "      <td>68</td>\n",
              "      <td>0.444</td>\n",
              "      <td>0.557</td>\n",
              "      <td>0</td>\n",
              "      <td>-5.476</td>\n",
              "      <td>1</td>\n",
              "      <td>0.0602</td>\n",
              "      <td>0.4530</td>\n",
              "      <td>0.000000</td>\n",
              "      <td>0.1520</td>\n",
              "      <td>0.2960</td>\n",
              "      <td>115.058</td>\n",
              "      <td>4</td>\n",
              "    </tr>\n",
              "    <tr>\n",
              "      <th>4</th>\n",
              "      <td>Get You (feat. Kali Uchis)</td>\n",
              "      <td>Daniel Caesar</td>\n",
              "      <td>7469173</td>\n",
              "      <td>278180</td>\n",
              "      <td>26.850144</td>\n",
              "      <td>0</td>\n",
              "      <td>76</td>\n",
              "      <td>0.658</td>\n",
              "      <td>0.294</td>\n",
              "      <td>4</td>\n",
              "      <td>-8.533</td>\n",
              "      <td>0</td>\n",
              "      <td>0.0321</td>\n",
              "      <td>0.4220</td>\n",
              "      <td>0.000052</td>\n",
              "      <td>0.0749</td>\n",
              "      <td>0.3580</td>\n",
              "      <td>74.038</td>\n",
              "      <td>4</td>\n",
              "    </tr>\n",
              "  </tbody>\n",
              "</table>\n",
              "</div>"
            ],
            "text/plain": [
              "                       trackName     artistName  ...    tempo  time_signature\n",
              "0         Say It (feat. Tove Lo)          Flume  ...   74.963               4\n",
              "1                       Freudian  Daniel Caesar  ...  115.823               3\n",
              "2         Feel Good (feat. Daya)        Gryffin  ...  138.064               4\n",
              "3  Never Be Like You (feat. Kai)          Flume  ...  115.058               4\n",
              "4     Get You (feat. Kali Uchis)  Daniel Caesar  ...   74.038               4\n",
              "\n",
              "[5 rows x 19 columns]"
            ]
          },
          "metadata": {
            "tags": []
          },
          "execution_count": 2
        }
      ]
    },
    {
      "cell_type": "markdown",
      "metadata": {
        "id": "aH4e6vFIg4rC",
        "colab_type": "text"
      },
      "source": [
        "The potential predictors I will be looking at include:\n",
        "*   Artist\n",
        "*   Whether or not the song is explicit\n",
        "*   Popularity\n",
        "*   Danceability\n",
        "*   Energy\n",
        "*   Key\n",
        "*   Loudness\n",
        "*   Mode\n",
        "*   Speechiness\n",
        "*   Acosuticness\n",
        "*   Instrumentallness\n",
        "*   Liveness\n",
        "*   Valence\n",
        "*   Tempo\n",
        "\n",
        "**Let's go!**\n",
        "\n",
        "First let's get rid of some super extreme outliers.\n"
      ]
    },
    {
      "cell_type": "code",
      "metadata": {
        "id": "UjAcQZjNlSJC",
        "colab_type": "code",
        "outputId": "d04a22e8-25b6-405d-f308-340c6d9e541a",
        "colab": {
          "base_uri": "https://localhost:8080/",
          "height": 204
        }
      },
      "source": [
        "spotify_df.loudness.sort_values().iloc[0:10]"
      ],
      "execution_count": 3,
      "outputs": [
        {
          "output_type": "execute_result",
          "data": {
            "text/plain": [
              "4380   -60.000\n",
              "1422   -60.000\n",
              "4244   -60.000\n",
              "3894   -53.341\n",
              "3953   -35.710\n",
              "4475   -35.475\n",
              "2643   -34.475\n",
              "822    -32.126\n",
              "3354   -30.879\n",
              "4226   -28.979\n",
              "Name: loudness, dtype: float64"
            ]
          },
          "metadata": {
            "tags": []
          },
          "execution_count": 3
        }
      ]
    },
    {
      "cell_type": "markdown",
      "metadata": {
        "id": "sHrkhQGklm0A",
        "colab_type": "text"
      },
      "source": [
        "Those top 4 quietest \"songs\" are literally silent songs that I played one time."
      ]
    },
    {
      "cell_type": "code",
      "metadata": {
        "id": "bAgVTHv3luK3",
        "colab_type": "code",
        "colab": {}
      },
      "source": [
        "spotify_df.drop([4380, 1422, 4244, 3894], inplace = True)"
      ],
      "execution_count": 0,
      "outputs": []
    },
    {
      "cell_type": "markdown",
      "metadata": {
        "id": "wqx4pl1NlRFl",
        "colab_type": "text"
      },
      "source": [
        "\n",
        "##**Transforming Variables**\n",
        "The first thing I want to do is transform the variables so they are not as skewed. This is especially important with our response variable, plays. After lots of trial and error, I have found that the following power transformations resulted in the most normality among variables."
      ]
    },
    {
      "cell_type": "code",
      "metadata": {
        "id": "y7M8OiFAp-jv",
        "colab_type": "code",
        "colab": {}
      },
      "source": [
        "spotify_df['plays'] = spotify_df.plays**0.01\n",
        "spotify_df['danceability'] = spotify_df.danceability**1.8\n",
        "spotify_df['popularity'] = spotify_df.popularity**1.375\n",
        "spotify_df['energy'] = spotify_df.energy**1.5\n",
        "spotify_df['loudness'] = (spotify_df.loudness + 40)**4.5\n",
        "spotify_df['speechiness'] = spotify_df.speechiness**0.365\n",
        "spotify_df['acousticness'] = spotify_df.acousticness**0.3\n",
        "spotify_df['instrumentalness'] = spotify_df.instrumentalness**0.0079\n",
        "spotify_df['liveness'] = spotify_df.liveness**0.4"
      ],
      "execution_count": 0,
      "outputs": []
    },
    {
      "cell_type": "code",
      "metadata": {
        "id": "hC2BdtsMrUkm",
        "colab_type": "code",
        "outputId": "ad239ae4-fb22-4500-a21b-a35947ca9b0a",
        "colab": {
          "base_uri": "https://localhost:8080/",
          "height": 470
        }
      },
      "source": [
        "spotify_df"
      ],
      "execution_count": 6,
      "outputs": [
        {
          "output_type": "execute_result",
          "data": {
            "text/html": [
              "<div>\n",
              "<style scoped>\n",
              "    .dataframe tbody tr th:only-of-type {\n",
              "        vertical-align: middle;\n",
              "    }\n",
              "\n",
              "    .dataframe tbody tr th {\n",
              "        vertical-align: top;\n",
              "    }\n",
              "\n",
              "    .dataframe thead th {\n",
              "        text-align: right;\n",
              "    }\n",
              "</style>\n",
              "<table border=\"1\" class=\"dataframe\">\n",
              "  <thead>\n",
              "    <tr style=\"text-align: right;\">\n",
              "      <th></th>\n",
              "      <th>trackName</th>\n",
              "      <th>artistName</th>\n",
              "      <th>msPlayed</th>\n",
              "      <th>duration_ms</th>\n",
              "      <th>plays</th>\n",
              "      <th>explicit</th>\n",
              "      <th>popularity</th>\n",
              "      <th>danceability</th>\n",
              "      <th>energy</th>\n",
              "      <th>key</th>\n",
              "      <th>loudness</th>\n",
              "      <th>mode</th>\n",
              "      <th>speechiness</th>\n",
              "      <th>acousticness</th>\n",
              "      <th>instrumentalness</th>\n",
              "      <th>liveness</th>\n",
              "      <th>valence</th>\n",
              "      <th>tempo</th>\n",
              "      <th>time_signature</th>\n",
              "    </tr>\n",
              "  </thead>\n",
              "  <tbody>\n",
              "    <tr>\n",
              "      <th>0</th>\n",
              "      <td>Say It (feat. Tove Lo)</td>\n",
              "      <td>Flume</td>\n",
              "      <td>15502360</td>\n",
              "      <td>262521</td>\n",
              "      <td>1.041627</td>\n",
              "      <td>1</td>\n",
              "      <td>291.432897</td>\n",
              "      <td>0.396335</td>\n",
              "      <td>0.388032</td>\n",
              "      <td>3</td>\n",
              "      <td>6.969119e+06</td>\n",
              "      <td>0</td>\n",
              "      <td>0.276366</td>\n",
              "      <td>0.444051</td>\n",
              "      <td>0.904924</td>\n",
              "      <td>0.328181</td>\n",
              "      <td>0.2610</td>\n",
              "      <td>74.963</td>\n",
              "      <td>4</td>\n",
              "    </tr>\n",
              "    <tr>\n",
              "      <th>1</th>\n",
              "      <td>Freudian</td>\n",
              "      <td>Daniel Caesar</td>\n",
              "      <td>11709180</td>\n",
              "      <td>602297</td>\n",
              "      <td>1.030118</td>\n",
              "      <td>1</td>\n",
              "      <td>241.013528</td>\n",
              "      <td>0.155028</td>\n",
              "      <td>0.162676</td>\n",
              "      <td>8</td>\n",
              "      <td>3.110148e+06</td>\n",
              "      <td>1</td>\n",
              "      <td>0.353936</td>\n",
              "      <td>0.703734</td>\n",
              "      <td>0.954238</td>\n",
              "      <td>0.509177</td>\n",
              "      <td>0.0714</td>\n",
              "      <td>115.823</td>\n",
              "      <td>3</td>\n",
              "    </tr>\n",
              "    <tr>\n",
              "      <th>2</th>\n",
              "      <td>Feel Good (feat. Daya)</td>\n",
              "      <td>Gryffin</td>\n",
              "      <td>10724803</td>\n",
              "      <td>248156</td>\n",
              "      <td>1.038381</td>\n",
              "      <td>0</td>\n",
              "      <td>357.958090</td>\n",
              "      <td>0.429125</td>\n",
              "      <td>0.594469</td>\n",
              "      <td>2</td>\n",
              "      <td>9.153898e+06</td>\n",
              "      <td>1</td>\n",
              "      <td>0.290125</td>\n",
              "      <td>0.634931</td>\n",
              "      <td>0.000000</td>\n",
              "      <td>0.538706</td>\n",
              "      <td>0.4790</td>\n",
              "      <td>138.064</td>\n",
              "      <td>4</td>\n",
              "    </tr>\n",
              "    <tr>\n",
              "      <th>3</th>\n",
              "      <td>Never Be Like You (feat. Kai)</td>\n",
              "      <td>Flume</td>\n",
              "      <td>8174487</td>\n",
              "      <td>234910</td>\n",
              "      <td>1.036133</td>\n",
              "      <td>1</td>\n",
              "      <td>330.902276</td>\n",
              "      <td>0.231894</td>\n",
              "      <td>0.415703</td>\n",
              "      <td>0</td>\n",
              "      <td>8.347280e+06</td>\n",
              "      <td>1</td>\n",
              "      <td>0.358552</td>\n",
              "      <td>0.788550</td>\n",
              "      <td>0.000000</td>\n",
              "      <td>0.470693</td>\n",
              "      <td>0.2960</td>\n",
              "      <td>115.058</td>\n",
              "      <td>4</td>\n",
              "    </tr>\n",
              "    <tr>\n",
              "      <th>4</th>\n",
              "      <td>Get You (feat. Kali Uchis)</td>\n",
              "      <td>Daniel Caesar</td>\n",
              "      <td>7469173</td>\n",
              "      <td>278180</td>\n",
              "      <td>1.033450</td>\n",
              "      <td>0</td>\n",
              "      <td>385.583720</td>\n",
              "      <td>0.470768</td>\n",
              "      <td>0.159412</td>\n",
              "      <td>4</td>\n",
              "      <td>5.499827e+06</td>\n",
              "      <td>0</td>\n",
              "      <td>0.285019</td>\n",
              "      <td>0.771958</td>\n",
              "      <td>0.925031</td>\n",
              "      <td>0.354644</td>\n",
              "      <td>0.3580</td>\n",
              "      <td>74.038</td>\n",
              "      <td>4</td>\n",
              "    </tr>\n",
              "    <tr>\n",
              "      <th>...</th>\n",
              "      <td>...</td>\n",
              "      <td>...</td>\n",
              "      <td>...</td>\n",
              "      <td>...</td>\n",
              "      <td>...</td>\n",
              "      <td>...</td>\n",
              "      <td>...</td>\n",
              "      <td>...</td>\n",
              "      <td>...</td>\n",
              "      <td>...</td>\n",
              "      <td>...</td>\n",
              "      <td>...</td>\n",
              "      <td>...</td>\n",
              "      <td>...</td>\n",
              "      <td>...</td>\n",
              "      <td>...</td>\n",
              "      <td>...</td>\n",
              "      <td>...</td>\n",
              "      <td>...</td>\n",
              "    </tr>\n",
              "    <tr>\n",
              "      <th>4740</th>\n",
              "      <td>Prescription/Oxymoron</td>\n",
              "      <td>ScHoolboy Q</td>\n",
              "      <td>1032</td>\n",
              "      <td>429667</td>\n",
              "      <td>0.941468</td>\n",
              "      <td>1</td>\n",
              "      <td>181.864289</td>\n",
              "      <td>0.320015</td>\n",
              "      <td>0.868085</td>\n",
              "      <td>11</td>\n",
              "      <td>8.433578e+06</td>\n",
              "      <td>0</td>\n",
              "      <td>0.737987</td>\n",
              "      <td>0.405865</td>\n",
              "      <td>0.963230</td>\n",
              "      <td>0.405953</td>\n",
              "      <td>0.3760</td>\n",
              "      <td>119.997</td>\n",
              "      <td>4</td>\n",
              "    </tr>\n",
              "    <tr>\n",
              "      <th>4741</th>\n",
              "      <td>Dancing With Our Hands Tied</td>\n",
              "      <td>Taylor Swift</td>\n",
              "      <td>1031</td>\n",
              "      <td>211507</td>\n",
              "      <td>0.948155</td>\n",
              "      <td>0</td>\n",
              "      <td>297.915607</td>\n",
              "      <td>0.427890</td>\n",
              "      <td>0.574403</td>\n",
              "      <td>0</td>\n",
              "      <td>7.109196e+06</td>\n",
              "      <td>0</td>\n",
              "      <td>0.551663</td>\n",
              "      <td>0.430835</td>\n",
              "      <td>0.913749</td>\n",
              "      <td>0.452847</td>\n",
              "      <td>0.2840</td>\n",
              "      <td>160.024</td>\n",
              "      <td>4</td>\n",
              "    </tr>\n",
              "    <tr>\n",
              "      <th>4742</th>\n",
              "      <td>Voices</td>\n",
              "      <td>Saosin</td>\n",
              "      <td>1021</td>\n",
              "      <td>217525</td>\n",
              "      <td>0.947797</td>\n",
              "      <td>0</td>\n",
              "      <td>234.898001</td>\n",
              "      <td>0.119357</td>\n",
              "      <td>0.889637</td>\n",
              "      <td>9</td>\n",
              "      <td>1.018140e+07</td>\n",
              "      <td>0</td>\n",
              "      <td>0.419578</td>\n",
              "      <td>0.061916</td>\n",
              "      <td>0.963679</td>\n",
              "      <td>0.676919</td>\n",
              "      <td>0.2610</td>\n",
              "      <td>179.962</td>\n",
              "      <td>4</td>\n",
              "    </tr>\n",
              "    <tr>\n",
              "      <th>4743</th>\n",
              "      <td>Come Here</td>\n",
              "      <td>Sabrina Claudio</td>\n",
              "      <td>1020</td>\n",
              "      <td>242011</td>\n",
              "      <td>0.946777</td>\n",
              "      <td>0</td>\n",
              "      <td>210.872336</td>\n",
              "      <td>0.342037</td>\n",
              "      <td>0.371737</td>\n",
              "      <td>11</td>\n",
              "      <td>5.443424e+06</td>\n",
              "      <td>0</td>\n",
              "      <td>0.334816</td>\n",
              "      <td>0.944265</td>\n",
              "      <td>0.961101</td>\n",
              "      <td>0.686864</td>\n",
              "      <td>0.1990</td>\n",
              "      <td>140.020</td>\n",
              "      <td>4</td>\n",
              "    </tr>\n",
              "    <tr>\n",
              "      <th>4744</th>\n",
              "      <td>If Only</td>\n",
              "      <td>Raveena</td>\n",
              "      <td>1010</td>\n",
              "      <td>201334</td>\n",
              "      <td>0.948427</td>\n",
              "      <td>0</td>\n",
              "      <td>291.432897</td>\n",
              "      <td>0.608745</td>\n",
              "      <td>0.256786</td>\n",
              "      <td>10</td>\n",
              "      <td>3.357240e+06</td>\n",
              "      <td>0</td>\n",
              "      <td>0.332847</td>\n",
              "      <td>0.794760</td>\n",
              "      <td>0.948913</td>\n",
              "      <td>0.371465</td>\n",
              "      <td>0.5810</td>\n",
              "      <td>77.984</td>\n",
              "      <td>4</td>\n",
              "    </tr>\n",
              "  </tbody>\n",
              "</table>\n",
              "<p>4741 rows × 19 columns</p>\n",
              "</div>"
            ],
            "text/plain": [
              "                          trackName       artistName  ...    tempo  time_signature\n",
              "0            Say It (feat. Tove Lo)            Flume  ...   74.963               4\n",
              "1                          Freudian    Daniel Caesar  ...  115.823               3\n",
              "2            Feel Good (feat. Daya)          Gryffin  ...  138.064               4\n",
              "3     Never Be Like You (feat. Kai)            Flume  ...  115.058               4\n",
              "4        Get You (feat. Kali Uchis)    Daniel Caesar  ...   74.038               4\n",
              "...                             ...              ...  ...      ...             ...\n",
              "4740          Prescription/Oxymoron      ScHoolboy Q  ...  119.997               4\n",
              "4741    Dancing With Our Hands Tied     Taylor Swift  ...  160.024               4\n",
              "4742                         Voices           Saosin  ...  179.962               4\n",
              "4743                      Come Here  Sabrina Claudio  ...  140.020               4\n",
              "4744                        If Only          Raveena  ...   77.984               4\n",
              "\n",
              "[4741 rows x 19 columns]"
            ]
          },
          "metadata": {
            "tags": []
          },
          "execution_count": 6
        }
      ]
    },
    {
      "cell_type": "code",
      "metadata": {
        "id": "T1iAdK6guLd2",
        "colab_type": "code",
        "colab": {}
      },
      "source": [
        "X_train = spotify_df.drop(['trackName',\n",
        "                           'msPlayed',\n",
        "                           'duration_ms',\n",
        "                           'plays',\n",
        "                           'mode',\n",
        "                           'time_signature'],\n",
        "                          axis = 1)\n",
        "y_train = spotify_df['plays']"
      ],
      "execution_count": 0,
      "outputs": []
    },
    {
      "cell_type": "markdown",
      "metadata": {
        "id": "A5WiRoXnrYjo",
        "colab_type": "text"
      },
      "source": [
        "##**K Nearest Neighbors**"
      ]
    },
    {
      "cell_type": "markdown",
      "metadata": {
        "id": "mqVMtH3OtIlG",
        "colab_type": "text"
      },
      "source": [
        "To select the features, I will start with the most important feature, artist. I will then add features to the model, one by one, in order from highest correlation with plays to lowest correlation with plays up to whether or not a song is explicit. In other words, I will not consider features with a correlation less than the \"explicit\" variable's correlation. \n",
        "\n",
        "With each set of features, I will best model varying the number of neighbors from 1 to 25.\n",
        "\n",
        "I will find the cross-validated MSE of each of the best models from the set of features and my final K Nearest Neighbors model will be the one with the lowest MSE."
      ]
    },
    {
      "cell_type": "code",
      "metadata": {
        "id": "7NxcTv0P0Vgb",
        "colab_type": "code",
        "colab": {}
      },
      "source": [
        "ct1 = make_column_transformer(\n",
        "    (OneHotEncoder(handle_unknown='ignore'), ['artistName']),\n",
        "    remainder = 'drop'\n",
        ")\n",
        "\n",
        "pipeline = make_pipeline(\n",
        "      ct1,\n",
        "      KNeighborsRegressor(n_neighbors=50)\n",
        ")\n",
        "\n",
        "clf = GridSearchCV(pipeline,\n",
        "                   param_grid={\n",
        "                       \"kneighborsregressor__n_neighbors\": range(1, 25)\n",
        "                       },\n",
        "                   scoring=\"neg_mean_squared_error\",\n",
        "                   cv=10)\n",
        "clf.fit(X_train[['artistName']], y_train)\n",
        "clf.best_estimator_"
      ],
      "execution_count": 0,
      "outputs": []
    },
    {
      "cell_type": "code",
      "metadata": {
        "id": "640-52SPrckH",
        "colab_type": "code",
        "colab": {}
      },
      "source": [
        "feature_options = [\n",
        "                   ['popularity'],\n",
        "                   ['popularity', 'energy'],\n",
        "                   ['popularity', 'energy', 'valence'],\n",
        "                   ['popularity', 'energy', 'valence', 'instrumentalness'],\n",
        "                   ['popularity', 'energy', 'valence', 'instrumentalness', 'acousticness'],\n",
        "                   ['popularity', 'energy', 'valence', 'instrumentalness', 'acousticness', 'explicit']\n",
        "                   ]\n",
        "\n",
        "for i in range(len(feature_options)):\n",
        "  ct = make_column_transformer(\n",
        "    (OneHotEncoder(handle_unknown='ignore'), ['artistName']),\n",
        "    (StandardScaler(), feature_options[i]),\n",
        "    remainder = 'drop'\n",
        "  )\n",
        "\n",
        "  pipeline = make_pipeline(\n",
        "      ct,\n",
        "      KNeighborsRegressor(n_neighbors=5)\n",
        "  )\n",
        "\n",
        "  clf = GridSearchCV(pipeline,\n",
        "                   param_grid={\n",
        "                       \"kneighborsregressor__n_neighbors\": range(1, 25)\n",
        "                       },\n",
        "                   scoring=\"neg_mean_squared_error\",\n",
        "                   cv=10)\n",
        "  clf.fit(X_train[['artistName'] + feature_options[i]], y_train)"
      ],
      "execution_count": 0,
      "outputs": []
    },
    {
      "cell_type": "markdown",
      "metadata": {
        "id": "YuAccpNg22pb",
        "colab_type": "text"
      },
      "source": [
        "Based on the code above, the best models were:\n",
        "*   Artist - 6 neighbors\n",
        "*   \\+ Popularity - 8 neighbors\n",
        "*   \\+ Energy - 8 neighbors\n",
        "*   \\+ Valence - 10 neighbors\n",
        "*   \\+ Instrumentalness - 16 neighbors\n",
        "*   \\+ Acousticness - 23 neighbors\n",
        "*   \\+ Explicit - 24 neighbors\n",
        "\n",
        "Now I will find the cross-validated MSEs of each of these models and find the best model."
      ]
    },
    {
      "cell_type": "code",
      "metadata": {
        "id": "wpUtWY095IAa",
        "colab_type": "code",
        "colab": {}
      },
      "source": [
        "cv_scores_dict = {\n",
        "    'Model': [],\n",
        "    'MSE': []\n",
        "}"
      ],
      "execution_count": 0,
      "outputs": []
    },
    {
      "cell_type": "code",
      "metadata": {
        "id": "wjGIfMfP5Iss",
        "colab_type": "code",
        "colab": {}
      },
      "source": [
        "ct1 = make_column_transformer(\n",
        "    (OneHotEncoder(handle_unknown='ignore'), ['artistName']),\n",
        "    remainder = 'drop'\n",
        ")\n",
        "\n",
        "pipeline = make_pipeline(\n",
        "      ct1,\n",
        "      KNeighborsRegressor(n_neighbors=6)\n",
        ")\n",
        "\n",
        "cv_scores_dict['Model'].append('Artist')\n",
        "cv_scores_dict['MSE'].append(-cross_val_score(pipeline, X=X_train[['artistName']], y=y_train,\n",
        "                             scoring=\"neg_mean_squared_error\", cv=10).mean())"
      ],
      "execution_count": 0,
      "outputs": []
    },
    {
      "cell_type": "code",
      "metadata": {
        "id": "kNkKUbv_4HYf",
        "colab_type": "code",
        "colab": {}
      },
      "source": [
        "neighbors = [8, 8, 10, 16, 23, 24]\n",
        "\n",
        "for i in range(len(neighbors)):\n",
        "  ct = make_column_transformer(\n",
        "    (OneHotEncoder(handle_unknown='ignore'), ['artistName']),\n",
        "    (StandardScaler(), feature_options[i]),\n",
        "    remainder = 'drop'\n",
        "  )\n",
        "\n",
        "  pipeline = make_pipeline(\n",
        "      ct,\n",
        "      KNeighborsRegressor(n_neighbors=neighbors[i])\n",
        "  )\n",
        "\n",
        "  cv_scores_dict['Model'].append('+' + feature_options[i][-1].capitalize())\n",
        "  cv_scores_dict['MSE'].append(-cross_val_score(pipeline, X=X_train[['artistName'] + feature_options[i]], y=y_train,\n",
        "                             scoring=\"neg_mean_squared_error\", cv=10).mean())"
      ],
      "execution_count": 0,
      "outputs": []
    },
    {
      "cell_type": "code",
      "metadata": {
        "id": "71A7fK_-6gGx",
        "colab_type": "code",
        "outputId": "e39d6f45-30b7-4851-fff6-9ae6fe4af936",
        "colab": {
          "base_uri": "https://localhost:8080/",
          "height": 266
        }
      },
      "source": [
        "cv_scores_df = pd.DataFrame(cv_scores_dict)\n",
        "cv_scores_df"
      ],
      "execution_count": 14,
      "outputs": [
        {
          "output_type": "execute_result",
          "data": {
            "text/html": [
              "<div>\n",
              "<style scoped>\n",
              "    .dataframe tbody tr th:only-of-type {\n",
              "        vertical-align: middle;\n",
              "    }\n",
              "\n",
              "    .dataframe tbody tr th {\n",
              "        vertical-align: top;\n",
              "    }\n",
              "\n",
              "    .dataframe thead th {\n",
              "        text-align: right;\n",
              "    }\n",
              "</style>\n",
              "<table border=\"1\" class=\"dataframe\">\n",
              "  <thead>\n",
              "    <tr style=\"text-align: right;\">\n",
              "      <th></th>\n",
              "      <th>Model</th>\n",
              "      <th>MSE</th>\n",
              "    </tr>\n",
              "  </thead>\n",
              "  <tbody>\n",
              "    <tr>\n",
              "      <th>0</th>\n",
              "      <td>Artist</td>\n",
              "      <td>0.000449</td>\n",
              "    </tr>\n",
              "    <tr>\n",
              "      <th>1</th>\n",
              "      <td>+Popularity</td>\n",
              "      <td>0.000433</td>\n",
              "    </tr>\n",
              "    <tr>\n",
              "      <th>2</th>\n",
              "      <td>+Energy</td>\n",
              "      <td>0.000448</td>\n",
              "    </tr>\n",
              "    <tr>\n",
              "      <th>3</th>\n",
              "      <td>+Valence</td>\n",
              "      <td>0.000468</td>\n",
              "    </tr>\n",
              "    <tr>\n",
              "      <th>4</th>\n",
              "      <td>+Instrumentalness</td>\n",
              "      <td>0.000481</td>\n",
              "    </tr>\n",
              "    <tr>\n",
              "      <th>5</th>\n",
              "      <td>+Acousticness</td>\n",
              "      <td>0.000492</td>\n",
              "    </tr>\n",
              "    <tr>\n",
              "      <th>6</th>\n",
              "      <td>+Explicit</td>\n",
              "      <td>0.000491</td>\n",
              "    </tr>\n",
              "  </tbody>\n",
              "</table>\n",
              "</div>"
            ],
            "text/plain": [
              "               Model       MSE\n",
              "0             Artist  0.000449\n",
              "1        +Popularity  0.000433\n",
              "2            +Energy  0.000448\n",
              "3           +Valence  0.000468\n",
              "4  +Instrumentalness  0.000481\n",
              "5      +Acousticness  0.000492\n",
              "6          +Explicit  0.000491"
            ]
          },
          "metadata": {
            "tags": []
          },
          "execution_count": 14
        }
      ]
    },
    {
      "cell_type": "code",
      "metadata": {
        "id": "zCoEh3re6qr4",
        "colab_type": "code",
        "colab": {
          "base_uri": "https://localhost:8080/",
          "height": 525
        },
        "outputId": "c55213f3-a8b3-4c33-bb07-36d4dc7aaf6a"
      },
      "source": [
        "sns.set_style('whitegrid')\n",
        "dims = (12,7)\n",
        "fig, ax = plt.subplots(figsize = dims)\n",
        "ax = sns.barplot(x = 'Model',\n",
        "                 y = 'MSE',\n",
        "                 data = cv_scores_df,\n",
        "                 palette = 'Set2')\n",
        "\n",
        "ax.set_xlabel('Model Features', fontsize = 18)\n",
        "ax.set_ylabel('MSE', fontsize = 17)\n",
        "ax.set_title('MSEs for K Nearest Neighbors Regressors', fontsize = 23)\n",
        "ax.set_xticklabels(ax.get_xticklabels(), rotation=25, fontsize=12)"
      ],
      "execution_count": 16,
      "outputs": [
        {
          "output_type": "display_data",
          "data": {
            "image/png": "[encoded data removed]",
            "text/plain": [
              "<Figure size 864x504 with 1 Axes>"
            ]
          },
          "metadata": {
            "tags": []
          }
        }
      ]
    },
    {
      "cell_type": "markdown",
      "metadata": {
        "id": "5IZo5Q3p_oWH",
        "colab_type": "text"
      },
      "source": [
        "As shown by the graph, the K Nearest Neighbors Regressor with the lowest MSE is the model with just artist and popularity as features and 8 neighbors.\n",
        "\n",
        "###**Best K Neighbors Model:**\n",
        "### Features - Artist and Popularity\n",
        "### Number of Neighbors - 8\n",
        "### MSE = 0.000433\n",
        "\n",
        "We will move forward assuming Artist and Popularity are the only worthwhile features based on the above analysis and because the other features are so poorly correlated with plays."
      ]
    },
    {
      "cell_type": "markdown",
      "metadata": {
        "id": "A43tvKqzDZHJ",
        "colab_type": "text"
      },
      "source": [
        "##**Ridge Regression**\n",
        "\n",
        "Now, we're going to try a different regression model, Ridge Regression. I want to try Ridge Regression because it addresses the problem multicollinearity or correlation between features. In this case, there is defintely correlation between the artist and how popular their songs are. I want to try Ridge Regression both to address that problem and just to try something new.\n",
        "\n",
        "I will be tuning the alpha hyperparameter to try to find the best Ridge Regression model."
      ]
    },
    {
      "cell_type": "code",
      "metadata": {
        "id": "IPgPP18qCq4t",
        "colab_type": "code",
        "outputId": "78d8b920-c940-4501-e674-e52fc1abee13",
        "colab": {
          "base_uri": "https://localhost:8080/",
          "height": 359
        }
      },
      "source": [
        "ct = make_column_transformer(\n",
        "    (OneHotEncoder(handle_unknown='ignore'), ['artistName']),\n",
        "    (StandardScaler(), ['popularity']),\n",
        "    remainder = 'drop'\n",
        "  )\n",
        "\n",
        "cv_scores_dict = {\n",
        "    'Model': [],\n",
        "    'MSE': []\n",
        "}\n",
        "\n",
        "for alpha in [0, 0.5, 1, 5, 10, 20, 30, 40, 50, 100]:\n",
        "  pipeline = make_pipeline(\n",
        "      ct,\n",
        "      Ridge(alpha=alpha)\n",
        "  )\n",
        "  cv_scores_dict['Model'].append(str(alpha))\n",
        "  cv_scores_dict['MSE'].append(-cross_val_score(pipeline, X=X_train[['artistName', 'popularity']], y=y_train,\n",
        "                             scoring=\"neg_mean_squared_error\", cv=10).mean())\n",
        "\n",
        "\n",
        "cv_scores_df = pd.DataFrame(cv_scores_dict)\n",
        "cv_scores_df"
      ],
      "execution_count": 17,
      "outputs": [
        {
          "output_type": "execute_result",
          "data": {
            "text/html": [
              "<div>\n",
              "<style scoped>\n",
              "    .dataframe tbody tr th:only-of-type {\n",
              "        vertical-align: middle;\n",
              "    }\n",
              "\n",
              "    .dataframe tbody tr th {\n",
              "        vertical-align: top;\n",
              "    }\n",
              "\n",
              "    .dataframe thead th {\n",
              "        text-align: right;\n",
              "    }\n",
              "</style>\n",
              "<table border=\"1\" class=\"dataframe\">\n",
              "  <thead>\n",
              "    <tr style=\"text-align: right;\">\n",
              "      <th></th>\n",
              "      <th>Model</th>\n",
              "      <th>MSE</th>\n",
              "    </tr>\n",
              "  </thead>\n",
              "  <tbody>\n",
              "    <tr>\n",
              "      <th>0</th>\n",
              "      <td>0</td>\n",
              "      <td>0.000415</td>\n",
              "    </tr>\n",
              "    <tr>\n",
              "      <th>1</th>\n",
              "      <td>0.5</td>\n",
              "      <td>0.000403</td>\n",
              "    </tr>\n",
              "    <tr>\n",
              "      <th>2</th>\n",
              "      <td>1</td>\n",
              "      <td>0.000399</td>\n",
              "    </tr>\n",
              "    <tr>\n",
              "      <th>3</th>\n",
              "      <td>5</td>\n",
              "      <td>0.000406</td>\n",
              "    </tr>\n",
              "    <tr>\n",
              "      <th>4</th>\n",
              "      <td>10</td>\n",
              "      <td>0.000419</td>\n",
              "    </tr>\n",
              "    <tr>\n",
              "      <th>5</th>\n",
              "      <td>20</td>\n",
              "      <td>0.000435</td>\n",
              "    </tr>\n",
              "    <tr>\n",
              "      <th>6</th>\n",
              "      <td>30</td>\n",
              "      <td>0.000446</td>\n",
              "    </tr>\n",
              "    <tr>\n",
              "      <th>7</th>\n",
              "      <td>40</td>\n",
              "      <td>0.000454</td>\n",
              "    </tr>\n",
              "    <tr>\n",
              "      <th>8</th>\n",
              "      <td>50</td>\n",
              "      <td>0.000459</td>\n",
              "    </tr>\n",
              "    <tr>\n",
              "      <th>9</th>\n",
              "      <td>100</td>\n",
              "      <td>0.000474</td>\n",
              "    </tr>\n",
              "  </tbody>\n",
              "</table>\n",
              "</div>"
            ],
            "text/plain": [
              "  Model       MSE\n",
              "0     0  0.000415\n",
              "1   0.5  0.000403\n",
              "2     1  0.000399\n",
              "3     5  0.000406\n",
              "4    10  0.000419\n",
              "5    20  0.000435\n",
              "6    30  0.000446\n",
              "7    40  0.000454\n",
              "8    50  0.000459\n",
              "9   100  0.000474"
            ]
          },
          "metadata": {
            "tags": []
          },
          "execution_count": 17
        }
      ]
    },
    {
      "cell_type": "code",
      "metadata": {
        "id": "_fCkMKa5HsOQ",
        "colab_type": "code",
        "colab": {
          "base_uri": "https://localhost:8080/",
          "height": 477
        },
        "outputId": "f082718c-7660-47e5-e608-eacee9b71e34"
      },
      "source": [
        "dims = (12,7)\n",
        "fig, ax = plt.subplots(figsize = dims)\n",
        "ax = sns.barplot(x = 'Model',\n",
        "                 y = 'MSE',\n",
        "                 data = cv_scores_df,\n",
        "                 palette = 'Set2',\n",
        "                 order = cv_scores_df['Model'].tolist())\n",
        "\n",
        "ax.set_xlabel('Alpha Value', fontsize = 18)\n",
        "ax.set_ylabel('MSE', fontsize = 17)\n",
        "ax.set_title('MSEs for Ridge Regressors', fontsize = 23)\n",
        "ax.set_xticklabels(ax.get_xticklabels(), fontsize=12)"
      ],
      "execution_count": 18,
      "outputs": [
        {
          "output_type": "display_data",
          "data": {
            "image/png": "[encoded data removed]",
            "text/plain": [
              "<Figure size 864x504 with 1 Axes>"
            ]
          },
          "metadata": {
            "tags": []
          }
        }
      ]
    },
    {
      "cell_type": "markdown",
      "metadata": {
        "id": "G3QZmwPmIlgC",
        "colab_type": "text"
      },
      "source": [
        "As shown by the graph, the Ridge Regressor with the lowest MSE is the model with an alpha value of 1.\n",
        "\n",
        "###**Best Ridge Regression Model:**\n",
        "### Features - Artist and Popularity\n",
        "### Alpha - 1\n",
        "### MSE = 0.000399"
      ]
    },
    {
      "cell_type": "markdown",
      "metadata": {
        "id": "LcqRhy-NJVE0",
        "colab_type": "text"
      },
      "source": [
        "##**Voting Regressor and Stacking Regressor**\n",
        "I love these guys.\n",
        "\n",
        "Let's see if combining our best K Nearest Neighbors Model with our best Ridge Regression Model end up being better than both of them individually. \n",
        "\n",
        "We'll start with the Voting Regressor."
      ]
    },
    {
      "cell_type": "code",
      "metadata": {
        "id": "w8YuBP0qKC_E",
        "colab_type": "code",
        "colab": {}
      },
      "source": [
        "ct = make_column_transformer(\n",
        "    (OneHotEncoder(handle_unknown='ignore'), ['artistName']),\n",
        "    (StandardScaler(), ['popularity']),\n",
        "    remainder = 'drop'\n",
        ")\n",
        "\n",
        "knn = make_pipeline(\n",
        "      ct,\n",
        "      KNeighborsRegressor(n_neighbors=8)\n",
        ")\n",
        "\n",
        "ridge = make_pipeline(\n",
        "      ct,\n",
        "      Ridge()\n",
        ")"
      ],
      "execution_count": 0,
      "outputs": []
    },
    {
      "cell_type": "code",
      "metadata": {
        "id": "dMr6__q6LVmV",
        "colab_type": "code",
        "outputId": "0060eb97-b030-4514-ff4a-4a6573518fde",
        "colab": {
          "base_uri": "https://localhost:8080/",
          "height": 34
        }
      },
      "source": [
        "voting = VotingRegressor([\n",
        "                          ('knn', knn),\n",
        "                          ('ridge', ridge)\n",
        "])\n",
        "\n",
        "-cross_val_score(voting, X=X_train[['artistName', 'popularity']], y=y_train,\n",
        "                             scoring=\"neg_mean_squared_error\", cv=10).mean()"
      ],
      "execution_count": 20,
      "outputs": [
        {
          "output_type": "execute_result",
          "data": {
            "text/plain": [
              "0.0004008026375473062"
            ]
          },
          "metadata": {
            "tags": []
          },
          "execution_count": 20
        }
      ]
    },
    {
      "cell_type": "code",
      "metadata": {
        "id": "vd_LJnkZLdZ3",
        "colab_type": "code",
        "outputId": "7b6ec2e4-6d89-4bb9-844b-cbd51b31c730",
        "colab": {
          "base_uri": "https://localhost:8080/",
          "height": 34
        }
      },
      "source": [
        "stacking = StackingRegressor([\n",
        "    (\"knn\", knn), \n",
        "    (\"ridge\", ridge)],\n",
        "    final_estimator=LinearRegression()\n",
        ")\n",
        "\n",
        "-cross_val_score(stacking, X=X_train[['artistName', 'popularity']], y=y_train,\n",
        "                             scoring=\"neg_mean_squared_error\", cv=10).mean()"
      ],
      "execution_count": 21,
      "outputs": [
        {
          "output_type": "execute_result",
          "data": {
            "text/plain": [
              "0.0006004574083451241"
            ]
          },
          "metadata": {
            "tags": []
          },
          "execution_count": 21
        }
      ]
    },
    {
      "cell_type": "markdown",
      "metadata": {
        "id": "jSL-V5clL4A3",
        "colab_type": "text"
      },
      "source": [
        "###**Voting Regressor:**\n",
        "###MSE = 0.000401\n",
        "\n",
        "###**Stacking Regressor:**\n",
        "###MSE = 0.000600"
      ]
    },
    {
      "cell_type": "markdown",
      "metadata": {
        "id": "RgyokwEqMTY1",
        "colab_type": "text"
      },
      "source": [
        "##**THE FINAL MODEL RANKING**"
      ]
    },
    {
      "cell_type": "code",
      "metadata": {
        "id": "_WhuKpEyMcmD",
        "colab_type": "code",
        "outputId": "b9972d39-e198-4a04-d639-cab72750583e",
        "colab": {
          "base_uri": "https://localhost:8080/",
          "height": 586
        }
      },
      "source": [
        "model_performance_df = pd.DataFrame({\n",
        "    'Model': ['Ridge Regressor',\n",
        "              'Voting Regressor',\n",
        "              'K Nearest Neighbors Regressor',\n",
        "              'Stacking Regressor'],\n",
        "    'MSE': [0.000399, 0.000401, 0.000433, 0.000600]\n",
        "})\n",
        "\n",
        "dims = (12,9)\n",
        "fig, ax = plt.subplots(figsize = dims)\n",
        "ax = sns.barplot(x = 'Model',\n",
        "                 y = 'MSE',\n",
        "                 data = model_performance_df,\n",
        "                 palette = 'Set1',\n",
        "                 order = model_performance_df['Model'].tolist())\n",
        "\n",
        "ax.set_xlabel('Model', fontsize = 18)\n",
        "ax.set_ylabel('MSE', fontsize = 17)\n",
        "ax.set_title('Final Model MSEs', fontsize = 23)\n",
        "ax.set_xticklabels(ax.get_xticklabels(), fontsize=12)"
      ],
      "execution_count": 22,
      "outputs": [
        {
          "output_type": "display_data",
          "data": {
            "image/png": "[encoded data removed]",
            "text/plain": [
              "<Figure size 864x648 with 1 Axes>"
            ]
          },
          "metadata": {
            "tags": []
          }
        }
      ]
    },
    {
      "cell_type": "markdown",
      "metadata": {
        "id": "FZeS10UrNWql",
        "colab_type": "text"
      },
      "source": [
        "###**Winner: Ridge Regressor!**"
      ]
    },
    {
      "cell_type": "markdown",
      "metadata": {
        "id": "xi4mYZbcNlkX",
        "colab_type": "text"
      },
      "source": [
        "##**FINAL PREDICTIONS**"
      ]
    },
    {
      "cell_type": "markdown",
      "metadata": {
        "id": "B_VlrEDmNv8d",
        "colab_type": "text"
      },
      "source": [
        "Now I will be using the Ridge Regressor to predict how much I will like the songs in my \"Release Radar\" playlist. The \"Release Radar\" playlist is a personalized playlist that contains recently released songs that spotify thinks I'll enjoy."
      ]
    },
    {
      "cell_type": "code",
      "metadata": {
        "id": "OgSz2mPcNpvi",
        "colab_type": "code",
        "colab": {}
      },
      "source": [
        "test_df = pd.read_csv('https://github.com/BrandonJChan/301FinalProject/blob/master/Data/final_test.csv?raw=true')\n",
        "test_df"
      ],
      "execution_count": 0,
      "outputs": []
    },
    {
      "cell_type": "code",
      "metadata": {
        "id": "UfFAabajOKj0",
        "colab_type": "code",
        "colab": {}
      },
      "source": [
        "ridge.fit(X_train[['artistName', 'popularity']], y_train)\n",
        "predictions = ridge.predict(test_df[['artistName', 'popularity']])\n",
        "predictions_df = test_df[['trackName', 'artistName']]\n",
        "predictions_df['predicted plays'] = pd.Series(predictions)**(1/0.01)\n",
        "predictions_df"
      ],
      "execution_count": 0,
      "outputs": []
    },
    {
      "cell_type": "code",
      "metadata": {
        "id": "1w-KYFHVPpYq",
        "colab_type": "code",
        "outputId": "2aa7066d-2274-4f4c-dbee-cf03d127e5fe",
        "colab": {
          "base_uri": "https://localhost:8080/",
          "height": 822
        }
      },
      "source": [
        "#Shortening song titles so it fits on the plot\n",
        "predictions_df['trackName'].replace({\n",
        "    'SUGAR (Remix) [feat. Dua Lipa]': 'SUGAR Remix',\n",
        "    \"Don't Slack (from Trolls World Tour)\": \"Don't Slack\",\n",
        "    'Hard To Say Goodbye (feat. Chloe Angelides) - Tep No Remix': 'Hard To Say Goodbye Remix',\n",
        "    'FUN! - SILO x Martin Wave Remix': 'FUN! Remix'\n",
        "},\n",
        "inplace = True)\n",
        "\n",
        "dims = (12,9)\n",
        "fig, ax = plt.subplots(figsize = dims)\n",
        "ax = sns.barplot(x = 'trackName',\n",
        "                 y = 'predicted plays',\n",
        "                 data = predictions_df,\n",
        "                 palette = 'Set1',\n",
        "                 order = predictions_df.sort_values('predicted plays', ascending = False)['trackName'].tolist())\n",
        "\n",
        "ax.set_xlabel('Song Title', fontsize = 18)\n",
        "ax.set_ylabel('Predicted Plays', fontsize = 17)\n",
        "ax.set_title('Final Predictions', fontsize = 23)\n",
        "ax.set_xticklabels(ax.get_xticklabels(), rotation = 70, fontsize=12)"
      ],
      "execution_count": 25,
      "outputs": [
        {
          "output_type": "stream",
          "text": [
            "/usr/local/lib/python3.6/dist-packages/pandas/core/generic.py:6786: SettingWithCopyWarning: \n",
            "A value is trying to be set on a copy of a slice from a DataFrame\n",
            "\n",
            "See the caveats in the documentation: http://pandas.pydata.org/pandas-docs/stable/user_guide/indexing.html#returning-a-view-versus-a-copy\n",
            "  self._update_inplace(new_data)\n"
          ],
          "name": "stderr"
        },
        {
          "output_type": "display_data",
          "data": {
            "image/png": "[encoded data removed]",
            "text/plain": [
              "<Figure size 864x648 with 1 Axes>"
            ]
          },
          "metadata": {
            "tags": []
          }
        }
      ]
    },
    {
      "cell_type": "markdown",
      "metadata": {
        "id": "yanXy2cURmZ_",
        "colab_type": "text"
      },
      "source": [
        "##**Conclusion**\n",
        "I can validate these predictions from experience. I went through the playlist on my own before making the predictions and I know which songs I have played alot and which songs I haven't.\n",
        "\n",
        "By far, I've played the SUGAR Remix more than any of the other songs, but I've also played The Difference, DIET_, and Trapped In alot. I haven't been playing Something Comforting, Don't Slack, and Morocco as much.\n",
        "\n",
        "The predictions are not extremely accurate, but they get the general trends.\n",
        "\n",
        "Looking back, the audio features that I extracted were not great. They don't represent the reason I choose to listen to or choose not to listen to a song.\n",
        "\n",
        "Going forward, I would love to keep working on these predictions, trying more models and trying more features (lyrics, genres, featured artists, etc.).\n",
        "\n",
        "In conclusion, I had fun and I learned a lot!"
      ]
    }
  ]
}