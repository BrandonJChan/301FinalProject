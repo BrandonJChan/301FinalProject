{
  "nbformat": 4,
  "nbformat_minor": 0,
  "metadata": {
    "colab": {
      "name": "Data Collection.ipynb",
      "provenance": [],
      "collapsed_sections": [],
      "authorship_tag": "ABX9TyMuB4XK+qYMs2pFgyYNVXOF",
      "include_colab_link": true
    },
    "kernelspec": {
      "name": "python3",
      "display_name": "Python 3"
    }
  },
  "cells": [
    {
      "cell_type": "markdown",
      "metadata": {
        "id": "view-in-github",
        "colab_type": "text"
      },
      "source": [
        "<a href=\"https://colab.research.google.com/github/BrandonJChan/301FinalProject/blob/master/Data_Collection.ipynb\" target=\"_parent\"><img src=\"https://colab.research.google.com/assets/colab-badge.svg\" alt=\"Open In Colab\"/></a>"
      ]
    },
    {
      "cell_type": "code",
      "metadata": {
        "id": "U6E0ydKsp6Gn",
        "colab_type": "code",
        "colab": {}
      },
      "source": [
        "import pandas as pd\n",
        "import requests\n",
        "import json\n",
        "from pandas.io.json import json_normalize\n",
        "import time\n",
        "import numpy as np\n",
        "import re\n",
        "from google.colab import files"
      ],
      "execution_count": 0,
      "outputs": []
    },
    {
      "cell_type": "code",
      "metadata": {
        "id": "JDOyyQVAEIPb",
        "colab_type": "code",
        "outputId": "9263ca4e-e33c-4927-cf3a-d314e4fa133b",
        "colab": {
          "base_uri": "https://localhost:8080/",
          "height": 185
        }
      },
      "source": [
        "!pip install spotipy"
      ],
      "execution_count": 2,
      "outputs": [
        {
          "output_type": "stream",
          "text": [
            "Collecting spotipy\n",
            "  Downloading https://files.pythonhosted.org/packages/ea/39/8efecac5a29cb7092788c11e6dff46087bfe716663ce7b85fd7d34e85c6e/spotipy-2.10.0-py3-none-any.whl\n",
            "Requirement already satisfied: requests>=2.20.0 in /usr/local/lib/python3.6/dist-packages (from spotipy) (2.21.0)\n",
            "Requirement already satisfied: six>=1.10.0 in /usr/local/lib/python3.6/dist-packages (from spotipy) (1.12.0)\n",
            "Requirement already satisfied: chardet<3.1.0,>=3.0.2 in /usr/local/lib/python3.6/dist-packages (from requests>=2.20.0->spotipy) (3.0.4)\n",
            "Requirement already satisfied: idna<2.9,>=2.5 in /usr/local/lib/python3.6/dist-packages (from requests>=2.20.0->spotipy) (2.8)\n",
            "Requirement already satisfied: certifi>=2017.4.17 in /usr/local/lib/python3.6/dist-packages (from requests>=2.20.0->spotipy) (2019.11.28)\n",
            "Requirement already satisfied: urllib3<1.25,>=1.21.1 in /usr/local/lib/python3.6/dist-packages (from requests>=2.20.0->spotipy) (1.24.3)\n",
            "Installing collected packages: spotipy\n",
            "Successfully installed spotipy-2.10.0\n"
          ],
          "name": "stdout"
        }
      ]
    },
    {
      "cell_type": "code",
      "metadata": {
        "id": "rYzkMkajEsLG",
        "colab_type": "code",
        "colab": {}
      },
      "source": [
        "import spotipy\n",
        "from spotipy import util\n",
        "from spotipy.oauth2 import SpotifyClientCredentials\n",
        "import spotipy.oauth2 as oauth2"
      ],
      "execution_count": 0,
      "outputs": []
    },
    {
      "cell_type": "markdown",
      "metadata": {
        "id": "5-snXVM10pt0",
        "colab_type": "text"
      },
      "source": [
        "#My 2019 Summer Streaming History\n",
        "\n",
        "I requested my data from Spotify this past summer and this is my entire streaming history for the summer. I received a JSON data file that includes every song I listened to from June 6, 2019 to September 4, 2019, when I listened to every song, how long I listened to every song."
      ]
    },
    {
      "cell_type": "code",
      "metadata": {
        "id": "hfusU-aOsWSg",
        "colab_type": "code",
        "colab": {}
      },
      "source": [
        "streaming_history = pd.read_json('https://github.com/BrandonJChan/301FinalProject/blob/master/Data/StreamingHistory.json?raw=true')"
      ],
      "execution_count": 0,
      "outputs": []
    },
    {
      "cell_type": "markdown",
      "metadata": {
        "id": "iMEvTe6gfKmt",
        "colab_type": "text"
      },
      "source": [
        "Getting rid of podcast listens from streaming history and songs I listened to for less than 1 second."
      ]
    },
    {
      "cell_type": "code",
      "metadata": {
        "id": "PpFHbUyPdisV",
        "colab_type": "code",
        "outputId": "d8edd490-7f96-40a7-e0d0-6272ea3c82bc",
        "colab": {
          "base_uri": "https://localhost:8080/",
          "height": 402
        }
      },
      "source": [
        "streaming_history = streaming_history[(streaming_history['msPlayed'] < 1000000)&\n",
        "                                      (streaming_history['msPlayed'] > 1000)]\n",
        "streaming_history"
      ],
      "execution_count": 5,
      "outputs": [
        {
          "output_type": "execute_result",
          "data": {
            "text/html": [
              "<div>\n",
              "<style scoped>\n",
              "    .dataframe tbody tr th:only-of-type {\n",
              "        vertical-align: middle;\n",
              "    }\n",
              "\n",
              "    .dataframe tbody tr th {\n",
              "        vertical-align: top;\n",
              "    }\n",
              "\n",
              "    .dataframe thead th {\n",
              "        text-align: right;\n",
              "    }\n",
              "</style>\n",
              "<table border=\"1\" class=\"dataframe\">\n",
              "  <thead>\n",
              "    <tr style=\"text-align: right;\">\n",
              "      <th></th>\n",
              "      <th>endTime</th>\n",
              "      <th>artistName</th>\n",
              "      <th>trackName</th>\n",
              "      <th>msPlayed</th>\n",
              "    </tr>\n",
              "  </thead>\n",
              "  <tbody>\n",
              "    <tr>\n",
              "      <th>0</th>\n",
              "      <td>2019-05-18 04:18</td>\n",
              "      <td>Seven Lions</td>\n",
              "      <td>A Way To Say Goodbye</td>\n",
              "      <td>131564</td>\n",
              "    </tr>\n",
              "    <tr>\n",
              "      <th>1</th>\n",
              "      <td>2019-06-06 00:03</td>\n",
              "      <td>Travis Scott</td>\n",
              "      <td>Pornography</td>\n",
              "      <td>231826</td>\n",
              "    </tr>\n",
              "    <tr>\n",
              "      <th>2</th>\n",
              "      <td>2019-06-06 00:11</td>\n",
              "      <td>Travis Scott</td>\n",
              "      <td>Oh My Dis Side (feat. Quavo)</td>\n",
              "      <td>351253</td>\n",
              "    </tr>\n",
              "    <tr>\n",
              "      <th>3</th>\n",
              "      <td>2019-06-06 00:19</td>\n",
              "      <td>Travis Scott</td>\n",
              "      <td>3500 (feat. Future &amp; 2 Chainz)</td>\n",
              "      <td>349092</td>\n",
              "    </tr>\n",
              "    <tr>\n",
              "      <th>4</th>\n",
              "      <td>2019-06-06 00:23</td>\n",
              "      <td>Travis Scott</td>\n",
              "      <td>Wasted (feat. Juicy J)</td>\n",
              "      <td>235680</td>\n",
              "    </tr>\n",
              "    <tr>\n",
              "      <th>...</th>\n",
              "      <td>...</td>\n",
              "      <td>...</td>\n",
              "      <td>...</td>\n",
              "      <td>...</td>\n",
              "    </tr>\n",
              "    <tr>\n",
              "      <th>16496</th>\n",
              "      <td>2019-09-04 23:11</td>\n",
              "      <td>Mac Ayres</td>\n",
              "      <td>Walking Home</td>\n",
              "      <td>61131</td>\n",
              "    </tr>\n",
              "    <tr>\n",
              "      <th>16497</th>\n",
              "      <td>2019-09-04 23:13</td>\n",
              "      <td>Bas</td>\n",
              "      <td>Jollof Rice (with EARTHGANG)</td>\n",
              "      <td>128139</td>\n",
              "    </tr>\n",
              "    <tr>\n",
              "      <th>16498</th>\n",
              "      <td>2019-09-04 23:16</td>\n",
              "      <td>Bas</td>\n",
              "      <td>Fried Rice (with JID)</td>\n",
              "      <td>175693</td>\n",
              "    </tr>\n",
              "    <tr>\n",
              "      <th>16499</th>\n",
              "      <td>2019-09-04 23:19</td>\n",
              "      <td>Bas</td>\n",
              "      <td>Nirvana (with Falcons &amp; B. Lewis)</td>\n",
              "      <td>165953</td>\n",
              "    </tr>\n",
              "    <tr>\n",
              "      <th>16500</th>\n",
              "      <td>2019-09-04 23:22</td>\n",
              "      <td>Bas</td>\n",
              "      <td>Amnesia (with Ari Lennox &amp; Kiddominant)</td>\n",
              "      <td>173464</td>\n",
              "    </tr>\n",
              "  </tbody>\n",
              "</table>\n",
              "<p>15501 rows × 4 columns</p>\n",
              "</div>"
            ],
            "text/plain": [
              "                endTime  ... msPlayed\n",
              "0      2019-05-18 04:18  ...   131564\n",
              "1      2019-06-06 00:03  ...   231826\n",
              "2      2019-06-06 00:11  ...   351253\n",
              "3      2019-06-06 00:19  ...   349092\n",
              "4      2019-06-06 00:23  ...   235680\n",
              "...                 ...  ...      ...\n",
              "16496  2019-09-04 23:11  ...    61131\n",
              "16497  2019-09-04 23:13  ...   128139\n",
              "16498  2019-09-04 23:16  ...   175693\n",
              "16499  2019-09-04 23:19  ...   165953\n",
              "16500  2019-09-04 23:22  ...   173464\n",
              "\n",
              "[15501 rows x 4 columns]"
            ]
          },
          "metadata": {
            "tags": []
          },
          "execution_count": 5
        }
      ]
    },
    {
      "cell_type": "markdown",
      "metadata": {
        "id": "pqiaOMEufQVF",
        "colab_type": "text"
      },
      "source": [
        "Getting the total amount of time spent listening to each song throughout the entire streaming history."
      ]
    },
    {
      "cell_type": "code",
      "metadata": {
        "id": "ngrNw0kZ2pgx",
        "colab_type": "code",
        "colab": {}
      },
      "source": [
        "by_song = streaming_history.groupby(['trackName', 'artistName'])['msPlayed'].sum()\n",
        "by_song_df = pd.DataFrame(by_song.sort_values(ascending=False)).reset_index()"
      ],
      "execution_count": 0,
      "outputs": []
    },
    {
      "cell_type": "markdown",
      "metadata": {
        "id": "ZAANZbZxfXL8",
        "colab_type": "text"
      },
      "source": [
        "Dropping songs that are no longer on spotify and the remaining podcasts."
      ]
    },
    {
      "cell_type": "code",
      "metadata": {
        "id": "mrdi7DlRB-KO",
        "colab_type": "code",
        "colab": {}
      },
      "source": [
        "by_song_df.drop([520, 756, 1174, 1201, 1334], inplace = True)"
      ],
      "execution_count": 0,
      "outputs": []
    },
    {
      "cell_type": "markdown",
      "metadata": {
        "id": "mgJqZUv9fcmE",
        "colab_type": "text"
      },
      "source": [
        "Fixing changed song titles so they are searchable"
      ]
    },
    {
      "cell_type": "code",
      "metadata": {
        "id": "lP0Gwv8-Dc2B",
        "colab_type": "code",
        "colab": {}
      },
      "source": [
        "by_song_df['trackName'].replace(\n",
        "    {'Awake (feat. JPEGMAFIA)': 'Awake',\n",
        "     'Fried Rice (feat. JID)': 'Fried Rice (with JID)',\n",
        "     'Swivel (with EARTHGANG) - From The Upcoming Album \"Mirrorland\"':'Swivel (with EARTHGANG)',\n",
        "     '5% TINT': '5 TINT',\n",
        "     'Trndsttr (feat. M. Maggie) - Lucian Remix': 'Trndsttr - Lucian Remix',\n",
        "     'Kolors ft. Smino': 'Kolors',\n",
        "     'Slow Down Love (feat. Chelsea Cutler)': \"Slow Down Love\",\n",
        "     \"Win You Over (feat. Soak)\": \"Win You Over\",\n",
        "     'Turn off the Lights (feat. Alexis Roberts)': 'Turn off the Lights',\n",
        "     'On It! (feat. AZChike & 1TakeJay)': 'On It!',\n",
        "     'LMK_WHAT’S REALLY GOOD REMIX_ FEAT_PRINCESS NOKIA_JUNGLEPUSSY_CUPCAKKE_MS. BOOGIE_100 BPM': 'LMK WHATS',\n",
        "     'The West (feat. Kai Ca$h & 03 Greedo)': 'The West',\n",
        "     'Surf (feat. City Girls, AZChike & Tee Grizzley)': 'Surf',\n",
        "     'Alley Oop (feat. Lil Baby)': 'Alley Oop',\n",
        "     'Monica Lewinsky (feat. A Boogie wit da Hoodie)': 'Monica Lewinsky',\n",
        "     'How Do You Sleep? - Featuring Ludacris': 'How Do You Sleep? - Radio Edit Remix',\n",
        "     'Good To Ya (feat. Ty Dolla $ign)': 'Good To Ya',\n",
        "     'Naughty (feat. Jeremih)': 'Naughty'\n",
        "     },\n",
        "     inplace = True\n",
        ")"
      ],
      "execution_count": 0,
      "outputs": []
    },
    {
      "cell_type": "code",
      "metadata": {
        "id": "NZPAV-zzCOWl",
        "colab_type": "code",
        "outputId": "4ce36f07-8b02-43f2-a2c0-4b62982a78b1",
        "colab": {
          "base_uri": "https://localhost:8080/",
          "height": 402
        }
      },
      "source": [
        "by_song_df"
      ],
      "execution_count": 9,
      "outputs": [
        {
          "output_type": "execute_result",
          "data": {
            "text/html": [
              "<div>\n",
              "<style scoped>\n",
              "    .dataframe tbody tr th:only-of-type {\n",
              "        vertical-align: middle;\n",
              "    }\n",
              "\n",
              "    .dataframe tbody tr th {\n",
              "        vertical-align: top;\n",
              "    }\n",
              "\n",
              "    .dataframe thead th {\n",
              "        text-align: right;\n",
              "    }\n",
              "</style>\n",
              "<table border=\"1\" class=\"dataframe\">\n",
              "  <thead>\n",
              "    <tr style=\"text-align: right;\">\n",
              "      <th></th>\n",
              "      <th>trackName</th>\n",
              "      <th>artistName</th>\n",
              "      <th>msPlayed</th>\n",
              "    </tr>\n",
              "  </thead>\n",
              "  <tbody>\n",
              "    <tr>\n",
              "      <th>0</th>\n",
              "      <td>Say It (feat. Tove Lo)</td>\n",
              "      <td>Flume</td>\n",
              "      <td>15502360</td>\n",
              "    </tr>\n",
              "    <tr>\n",
              "      <th>1</th>\n",
              "      <td>Freudian</td>\n",
              "      <td>Daniel Caesar</td>\n",
              "      <td>11709180</td>\n",
              "    </tr>\n",
              "    <tr>\n",
              "      <th>2</th>\n",
              "      <td>Feel Good (feat. Daya)</td>\n",
              "      <td>Gryffin</td>\n",
              "      <td>10724803</td>\n",
              "    </tr>\n",
              "    <tr>\n",
              "      <th>3</th>\n",
              "      <td>Never Be Like You (feat. Kai)</td>\n",
              "      <td>Flume</td>\n",
              "      <td>8174487</td>\n",
              "    </tr>\n",
              "    <tr>\n",
              "      <th>4</th>\n",
              "      <td>Get You (feat. Kali Uchis)</td>\n",
              "      <td>Daniel Caesar</td>\n",
              "      <td>7469173</td>\n",
              "    </tr>\n",
              "    <tr>\n",
              "      <th>...</th>\n",
              "      <td>...</td>\n",
              "      <td>...</td>\n",
              "      <td>...</td>\n",
              "    </tr>\n",
              "    <tr>\n",
              "      <th>5041</th>\n",
              "      <td>Dancing With Our Hands Tied</td>\n",
              "      <td>Taylor Swift</td>\n",
              "      <td>1031</td>\n",
              "    </tr>\n",
              "    <tr>\n",
              "      <th>5042</th>\n",
              "      <td>Voices</td>\n",
              "      <td>Saosin</td>\n",
              "      <td>1021</td>\n",
              "    </tr>\n",
              "    <tr>\n",
              "      <th>5043</th>\n",
              "      <td>Come Here</td>\n",
              "      <td>Sabrina Claudio</td>\n",
              "      <td>1020</td>\n",
              "    </tr>\n",
              "    <tr>\n",
              "      <th>5044</th>\n",
              "      <td>Basement</td>\n",
              "      <td>DJ Mamba</td>\n",
              "      <td>1011</td>\n",
              "    </tr>\n",
              "    <tr>\n",
              "      <th>5045</th>\n",
              "      <td>If Only</td>\n",
              "      <td>Raveena</td>\n",
              "      <td>1010</td>\n",
              "    </tr>\n",
              "  </tbody>\n",
              "</table>\n",
              "<p>5041 rows × 3 columns</p>\n",
              "</div>"
            ],
            "text/plain": [
              "                          trackName       artistName  msPlayed\n",
              "0            Say It (feat. Tove Lo)            Flume  15502360\n",
              "1                          Freudian    Daniel Caesar  11709180\n",
              "2            Feel Good (feat. Daya)          Gryffin  10724803\n",
              "3     Never Be Like You (feat. Kai)            Flume   8174487\n",
              "4        Get You (feat. Kali Uchis)    Daniel Caesar   7469173\n",
              "...                             ...              ...       ...\n",
              "5041    Dancing With Our Hands Tied     Taylor Swift      1031\n",
              "5042                         Voices           Saosin      1021\n",
              "5043                      Come Here  Sabrina Claudio      1020\n",
              "5044                       Basement         DJ Mamba      1011\n",
              "5045                        If Only          Raveena      1010\n",
              "\n",
              "[5041 rows x 3 columns]"
            ]
          },
          "metadata": {
            "tags": []
          },
          "execution_count": 9
        }
      ]
    },
    {
      "cell_type": "markdown",
      "metadata": {
        "id": "3cbvb64EfjKt",
        "colab_type": "text"
      },
      "source": [
        "Getting access token so I can use the Spotify Web API"
      ]
    },
    {
      "cell_type": "code",
      "metadata": {
        "id": "MPSIAQQUDWWL",
        "colab_type": "code",
        "colab": {}
      },
      "source": [
        "redirect_url = 'https://developer.spotify.com/documentation/web-api/'\n",
        "access_token = util.prompt_for_user_token('chansthecrapper',\n",
        "                           client_id='b933e8011ebe4d68a6dcb80fa40faa36',\n",
        "                           client_secret='0f3629522e8249f5bca055bd2ab7c7a5',\n",
        "                           redirect_uri=redirect_url)"
      ],
      "execution_count": 0,
      "outputs": []
    },
    {
      "cell_type": "code",
      "metadata": {
        "id": "Wkt4iVYw-6dD",
        "colab_type": "code",
        "colab": {}
      },
      "source": [
        "search_endpoint = 'https://api.spotify.com/v1/search'\n",
        "header = {'Authorization':'Bearer {}'.format(access_token)}"
      ],
      "execution_count": 0,
      "outputs": []
    },
    {
      "cell_type": "markdown",
      "metadata": {
        "id": "TtCgIZeoPOBx",
        "colab_type": "text"
      },
      "source": [
        "##Getting Spotify IDs for every song"
      ]
    },
    {
      "cell_type": "markdown",
      "metadata": {
        "id": "N9VEpYEWflbL",
        "colab_type": "text"
      },
      "source": [
        "I need the Spotify IDs to get the audio features (loudness, danceability, etc.) of every song. I am getting Spotify IDs by using the Spotify Web API to search for songs based on the song title and artist name, then I am taking the Spotify ID of the top result from the search. Also, extracting whether or not the song is explicit and the popularity of the song because they could potentially be helpful in the model."
      ]
    },
    {
      "cell_type": "code",
      "metadata": {
        "id": "H61X18Kptnvw",
        "colab_type": "code",
        "colab": {}
      },
      "source": [
        "def get_track(df):\n",
        "  try:\n",
        "    trackNameformatted = df['trackName'].replace(' ', '%20')\n",
        "    trackNameformatted = re.sub(\"[#']\", '', trackNameformatted)\n",
        "\n",
        "    artistNameformatted = df['artistName'].replace(' ', '%20')\n",
        "\n",
        "    search_response = requests.get(search_endpoint+\n",
        "                                  \"?q=track:{}%20artist:{}\".format(trackNameformatted, artistNameformatted) + \n",
        "                                  \"&limit=1&type=track\",\n",
        "                                  headers = header)\n",
        "    time.sleep(0.2)\n",
        "  \n",
        "    track_row = json_normalize(json_normalize(search_response.json())['tracks.items'].iloc[0])\n",
        "\n",
        "    artistName = json_normalize(track_row['artists'].iloc[0])['name'].iloc[0]\n",
        "\n",
        "    final_row = pd.DataFrame({\n",
        "        'trackName': [track_row['name'].iloc[0]],\n",
        "        'artistName': [artistName],\n",
        "        'explicit': [track_row['explicit'].iloc[0]*1],\n",
        "        'popularity':[track_row['popularity'].iloc[0]],\n",
        "        'id': [track_row['id'].iloc[0]]\n",
        "    })\n",
        "  except:\n",
        "    final_row = pd.DataFrame({\n",
        "        'trackName': [df['trackName']],\n",
        "        'artistName': [df['artistName']],\n",
        "        'explicit': ['unknown'],\n",
        "        'popularity':[-1],\n",
        "        'id': ['unknown']\n",
        "    })\n",
        "  return final_row"
      ],
      "execution_count": 0,
      "outputs": []
    },
    {
      "cell_type": "code",
      "metadata": {
        "id": "ZhZ09mtuRRQh",
        "colab_type": "code",
        "colab": {}
      },
      "source": [
        "ids_series = by_song_df.apply(get_track, axis = 1)\n",
        "ids_df = pd.concat(ids_series.values.tolist())"
      ],
      "execution_count": 0,
      "outputs": []
    },
    {
      "cell_type": "code",
      "metadata": {
        "id": "9T59EA_343JU",
        "colab_type": "code",
        "outputId": "a79b8846-7b42-4f1d-c4a8-c32db8a12615",
        "colab": {
          "base_uri": "https://localhost:8080/",
          "height": 195
        }
      },
      "source": [
        "ids_df[ids_df['id'] == 'unknown'].head()"
      ],
      "execution_count": 14,
      "outputs": [
        {
          "output_type": "execute_result",
          "data": {
            "text/html": [
              "<div>\n",
              "<style scoped>\n",
              "    .dataframe tbody tr th:only-of-type {\n",
              "        vertical-align: middle;\n",
              "    }\n",
              "\n",
              "    .dataframe tbody tr th {\n",
              "        vertical-align: top;\n",
              "    }\n",
              "\n",
              "    .dataframe thead th {\n",
              "        text-align: right;\n",
              "    }\n",
              "</style>\n",
              "<table border=\"1\" class=\"dataframe\">\n",
              "  <thead>\n",
              "    <tr style=\"text-align: right;\">\n",
              "      <th></th>\n",
              "      <th>trackName</th>\n",
              "      <th>artistName</th>\n",
              "      <th>explicit</th>\n",
              "      <th>popularity</th>\n",
              "      <th>id</th>\n",
              "    </tr>\n",
              "  </thead>\n",
              "  <tbody>\n",
              "    <tr>\n",
              "      <th>0</th>\n",
              "      <td>Core - Original Mix</td>\n",
              "      <td>RL Grime</td>\n",
              "      <td>unknown</td>\n",
              "      <td>-1</td>\n",
              "      <td>unknown</td>\n",
              "    </tr>\n",
              "    <tr>\n",
              "      <th>0</th>\n",
              "      <td>Find</td>\n",
              "      <td>Kasbo</td>\n",
              "      <td>unknown</td>\n",
              "      <td>-1</td>\n",
              "      <td>unknown</td>\n",
              "    </tr>\n",
              "    <tr>\n",
              "      <th>0</th>\n",
              "      <td>Butterfly</td>\n",
              "      <td>LOOΠΔ</td>\n",
              "      <td>unknown</td>\n",
              "      <td>-1</td>\n",
              "      <td>unknown</td>\n",
              "    </tr>\n",
              "    <tr>\n",
              "      <th>0</th>\n",
              "      <td>Simple Solutions</td>\n",
              "      <td>TED Radio Hour</td>\n",
              "      <td>unknown</td>\n",
              "      <td>-1</td>\n",
              "      <td>unknown</td>\n",
              "    </tr>\n",
              "    <tr>\n",
              "      <th>0</th>\n",
              "      <td>Lie</td>\n",
              "      <td>Riah</td>\n",
              "      <td>unknown</td>\n",
              "      <td>-1</td>\n",
              "      <td>unknown</td>\n",
              "    </tr>\n",
              "  </tbody>\n",
              "</table>\n",
              "</div>"
            ],
            "text/plain": [
              "             trackName      artistName explicit  popularity       id\n",
              "0  Core - Original Mix        RL Grime  unknown          -1  unknown\n",
              "0                 Find           Kasbo  unknown          -1  unknown\n",
              "0            Butterfly           LOOΠΔ  unknown          -1  unknown\n",
              "0     Simple Solutions  TED Radio Hour  unknown          -1  unknown\n",
              "0                  Lie            Riah  unknown          -1  unknown"
            ]
          },
          "metadata": {
            "tags": []
          },
          "execution_count": 14
        }
      ]
    },
    {
      "cell_type": "markdown",
      "metadata": {
        "id": "yTBH0zD_PCfF",
        "colab_type": "text"
      },
      "source": [
        "Getting rid of the 30-ish songs that I could not search for and remaining podcasts."
      ]
    },
    {
      "cell_type": "code",
      "metadata": {
        "id": "T-vfh4qj5MVN",
        "colab_type": "code",
        "colab": {}
      },
      "source": [
        "ids_df = ids_df[ids_df['id'] != 'unknown']"
      ],
      "execution_count": 0,
      "outputs": []
    },
    {
      "cell_type": "code",
      "metadata": {
        "id": "vWyelTMWmYYP",
        "colab_type": "code",
        "colab": {
          "base_uri": "https://localhost:8080/",
          "height": 402
        },
        "outputId": "ba9785eb-271f-4321-e00f-6cb575e17afe"
      },
      "source": [
        "ids_df"
      ],
      "execution_count": 71,
      "outputs": [
        {
          "output_type": "execute_result",
          "data": {
            "text/html": [
              "<div>\n",
              "<style scoped>\n",
              "    .dataframe tbody tr th:only-of-type {\n",
              "        vertical-align: middle;\n",
              "    }\n",
              "\n",
              "    .dataframe tbody tr th {\n",
              "        vertical-align: top;\n",
              "    }\n",
              "\n",
              "    .dataframe thead th {\n",
              "        text-align: right;\n",
              "    }\n",
              "</style>\n",
              "<table border=\"1\" class=\"dataframe\">\n",
              "  <thead>\n",
              "    <tr style=\"text-align: right;\">\n",
              "      <th></th>\n",
              "      <th>trackName</th>\n",
              "      <th>artistName</th>\n",
              "      <th>explicit</th>\n",
              "      <th>popularity</th>\n",
              "      <th>id</th>\n",
              "    </tr>\n",
              "  </thead>\n",
              "  <tbody>\n",
              "    <tr>\n",
              "      <th>0</th>\n",
              "      <td>Say It (feat. Tove Lo)</td>\n",
              "      <td>Flume</td>\n",
              "      <td>1</td>\n",
              "      <td>62</td>\n",
              "      <td>5aOpzm8W8zysk4asB9hxJw</td>\n",
              "    </tr>\n",
              "    <tr>\n",
              "      <th>0</th>\n",
              "      <td>Freudian</td>\n",
              "      <td>Daniel Caesar</td>\n",
              "      <td>1</td>\n",
              "      <td>54</td>\n",
              "      <td>4nESnAOALHmxg8UFCCtXhO</td>\n",
              "    </tr>\n",
              "    <tr>\n",
              "      <th>0</th>\n",
              "      <td>Feel Good (feat. Daya)</td>\n",
              "      <td>Gryffin</td>\n",
              "      <td>0</td>\n",
              "      <td>72</td>\n",
              "      <td>0Ev562zA4pmUsBqjxsxxdx</td>\n",
              "    </tr>\n",
              "    <tr>\n",
              "      <th>0</th>\n",
              "      <td>Never Be Like You (feat. Kai)</td>\n",
              "      <td>Flume</td>\n",
              "      <td>1</td>\n",
              "      <td>68</td>\n",
              "      <td>5WI2ltQIdwgzf1SNE76JyR</td>\n",
              "    </tr>\n",
              "    <tr>\n",
              "      <th>0</th>\n",
              "      <td>Get You (feat. Kali Uchis)</td>\n",
              "      <td>Daniel Caesar</td>\n",
              "      <td>0</td>\n",
              "      <td>76</td>\n",
              "      <td>7zFXmv6vqI4qOt4yGf3jYZ</td>\n",
              "    </tr>\n",
              "    <tr>\n",
              "      <th>...</th>\n",
              "      <td>...</td>\n",
              "      <td>...</td>\n",
              "      <td>...</td>\n",
              "      <td>...</td>\n",
              "      <td>...</td>\n",
              "    </tr>\n",
              "    <tr>\n",
              "      <th>0</th>\n",
              "      <td>Prescription/Oxymoron</td>\n",
              "      <td>ScHoolboy Q</td>\n",
              "      <td>1</td>\n",
              "      <td>44</td>\n",
              "      <td>3ljBzccXOpkHcGejRzHVjK</td>\n",
              "    </tr>\n",
              "    <tr>\n",
              "      <th>0</th>\n",
              "      <td>Dancing With Our Hands Tied</td>\n",
              "      <td>Taylor Swift</td>\n",
              "      <td>0</td>\n",
              "      <td>62</td>\n",
              "      <td>7I7JbDv63ZJJsSi24DyJrz</td>\n",
              "    </tr>\n",
              "    <tr>\n",
              "      <th>0</th>\n",
              "      <td>Voices</td>\n",
              "      <td>Saosin</td>\n",
              "      <td>0</td>\n",
              "      <td>53</td>\n",
              "      <td>71U9X93wy4BQGyvmjFqApv</td>\n",
              "    </tr>\n",
              "    <tr>\n",
              "      <th>0</th>\n",
              "      <td>Come Here</td>\n",
              "      <td>Sabrina Claudio</td>\n",
              "      <td>0</td>\n",
              "      <td>49</td>\n",
              "      <td>4BTMGOsnbzI76XYTxAn5K8</td>\n",
              "    </tr>\n",
              "    <tr>\n",
              "      <th>0</th>\n",
              "      <td>If Only</td>\n",
              "      <td>Raveena</td>\n",
              "      <td>0</td>\n",
              "      <td>62</td>\n",
              "      <td>4jyU03J2YOhRxgOHit2auK</td>\n",
              "    </tr>\n",
              "  </tbody>\n",
              "</table>\n",
              "<p>4984 rows × 5 columns</p>\n",
              "</div>"
            ],
            "text/plain": [
              "                        trackName  ...                      id\n",
              "0          Say It (feat. Tove Lo)  ...  5aOpzm8W8zysk4asB9hxJw\n",
              "0                        Freudian  ...  4nESnAOALHmxg8UFCCtXhO\n",
              "0          Feel Good (feat. Daya)  ...  0Ev562zA4pmUsBqjxsxxdx\n",
              "0   Never Be Like You (feat. Kai)  ...  5WI2ltQIdwgzf1SNE76JyR\n",
              "0      Get You (feat. Kali Uchis)  ...  7zFXmv6vqI4qOt4yGf3jYZ\n",
              "..                            ...  ...                     ...\n",
              "0           Prescription/Oxymoron  ...  3ljBzccXOpkHcGejRzHVjK\n",
              "0     Dancing With Our Hands Tied  ...  7I7JbDv63ZJJsSi24DyJrz\n",
              "0                          Voices  ...  71U9X93wy4BQGyvmjFqApv\n",
              "0                       Come Here  ...  4BTMGOsnbzI76XYTxAn5K8\n",
              "0                         If Only  ...  4jyU03J2YOhRxgOHit2auK\n",
              "\n",
              "[4984 rows x 5 columns]"
            ]
          },
          "metadata": {
            "tags": []
          },
          "execution_count": 71
        }
      ]
    },
    {
      "cell_type": "markdown",
      "metadata": {
        "id": "1IEcsYPaPlH3",
        "colab_type": "text"
      },
      "source": [
        "##Getting Audio Features"
      ]
    },
    {
      "cell_type": "markdown",
      "metadata": {
        "id": "4MBQgQtEPnne",
        "colab_type": "text"
      },
      "source": [
        "I am only allowed to get audio features for, at most, 100 songs at a time. I am iterating through 100 IDs at a time and extracting the audio features using the Web API."
      ]
    },
    {
      "cell_type": "code",
      "metadata": {
        "id": "iGr2VeCz7Ss9",
        "colab_type": "code",
        "colab": {}
      },
      "source": [
        "indices = list(range(0, len(ids_df), 100))\n",
        "indices.append(len(ids_df))"
      ],
      "execution_count": 0,
      "outputs": []
    },
    {
      "cell_type": "code",
      "metadata": {
        "id": "1JuoU2ko8Yid",
        "colab_type": "code",
        "colab": {}
      },
      "source": [
        "features_endpoint = 'https://api.spotify.com/v1/audio-features/?ids='\n",
        "feat_cols = ['id',\n",
        "             'danceability',\n",
        "             'energy',\n",
        "             'key',\n",
        "             'loudness',\n",
        "             'mode',\n",
        "             'speechiness',\n",
        "             'acousticness',\n",
        "             'instrumentalness',\n",
        "             'liveness',\n",
        "             'valence',\n",
        "             'tempo',\n",
        "             'duration_ms',\n",
        "             'time_signature']\n",
        "             \n",
        "features_df = pd.DataFrame(columns = feat_cols)"
      ],
      "execution_count": 0,
      "outputs": []
    },
    {
      "cell_type": "markdown",
      "metadata": {
        "id": "7XRQT-fbE-WK",
        "colab_type": "text"
      },
      "source": [
        "Correcting one Spotify ID (It's Shake It Off by Taylor Swift)"
      ]
    },
    {
      "cell_type": "code",
      "metadata": {
        "id": "hLaWyD0EEm-a",
        "colab_type": "code",
        "colab": {}
      },
      "source": [
        "ids_df['id'].iloc[870] = '5xTtaWoae3wi06K5WfVUUH'"
      ],
      "execution_count": 0,
      "outputs": []
    },
    {
      "cell_type": "code",
      "metadata": {
        "id": "z9oVIFY42qFL",
        "colab_type": "code",
        "colab": {}
      },
      "source": [
        "for i in range(len(indices)-1):\n",
        "  ids_subset = ids_df['id'].iloc[indices[i]:indices[i+1]].tolist()\n",
        "  ids_string = ','.join(ids_subset)\n",
        "  feat_response = requests.get(features_endpoint+\n",
        "                              ids_string,\n",
        "                              headers = header)\n",
        "\n",
        "  feat_df = json_normalize(feat_response.json(), 'audio_features')[feat_cols]\n",
        "  features_df = features_df.append(feat_df)\n",
        "  time.sleep(0.2)"
      ],
      "execution_count": 0,
      "outputs": []
    },
    {
      "cell_type": "code",
      "metadata": {
        "id": "8sbCwDlAmdFz",
        "colab_type": "code",
        "colab": {
          "base_uri": "https://localhost:8080/",
          "height": 402
        },
        "outputId": "28aa7451-b10a-4bab-d9ba-05aef7f62bd1"
      },
      "source": [
        "features_df"
      ],
      "execution_count": 83,
      "outputs": [
        {
          "output_type": "execute_result",
          "data": {
            "text/html": [
              "<div>\n",
              "<style scoped>\n",
              "    .dataframe tbody tr th:only-of-type {\n",
              "        vertical-align: middle;\n",
              "    }\n",
              "\n",
              "    .dataframe tbody tr th {\n",
              "        vertical-align: top;\n",
              "    }\n",
              "\n",
              "    .dataframe thead th {\n",
              "        text-align: right;\n",
              "    }\n",
              "</style>\n",
              "<table border=\"1\" class=\"dataframe\">\n",
              "  <thead>\n",
              "    <tr style=\"text-align: right;\">\n",
              "      <th></th>\n",
              "      <th>id</th>\n",
              "      <th>danceability</th>\n",
              "      <th>energy</th>\n",
              "      <th>key</th>\n",
              "      <th>loudness</th>\n",
              "      <th>mode</th>\n",
              "      <th>speechiness</th>\n",
              "      <th>acousticness</th>\n",
              "      <th>instrumentalness</th>\n",
              "      <th>liveness</th>\n",
              "      <th>valence</th>\n",
              "      <th>tempo</th>\n",
              "      <th>duration_ms</th>\n",
              "      <th>time_signature</th>\n",
              "    </tr>\n",
              "  </thead>\n",
              "  <tbody>\n",
              "    <tr>\n",
              "      <th>0</th>\n",
              "      <td>5aOpzm8W8zysk4asB9hxJw</td>\n",
              "      <td>0.598</td>\n",
              "      <td>0.532</td>\n",
              "      <td>3</td>\n",
              "      <td>-6.833</td>\n",
              "      <td>0</td>\n",
              "      <td>0.0295</td>\n",
              "      <td>0.066800</td>\n",
              "      <td>0.000003</td>\n",
              "      <td>0.0617</td>\n",
              "      <td>0.2610</td>\n",
              "      <td>74.963</td>\n",
              "      <td>262521</td>\n",
              "      <td>4</td>\n",
              "    </tr>\n",
              "    <tr>\n",
              "      <th>1</th>\n",
              "      <td>4nESnAOALHmxg8UFCCtXhO</td>\n",
              "      <td>0.355</td>\n",
              "      <td>0.298</td>\n",
              "      <td>8</td>\n",
              "      <td>-12.277</td>\n",
              "      <td>1</td>\n",
              "      <td>0.0581</td>\n",
              "      <td>0.310000</td>\n",
              "      <td>0.002660</td>\n",
              "      <td>0.1850</td>\n",
              "      <td>0.0714</td>\n",
              "      <td>115.823</td>\n",
              "      <td>602297</td>\n",
              "      <td>3</td>\n",
              "    </tr>\n",
              "    <tr>\n",
              "      <th>2</th>\n",
              "      <td>0Ev562zA4pmUsBqjxsxxdx</td>\n",
              "      <td>0.625</td>\n",
              "      <td>0.707</td>\n",
              "      <td>2</td>\n",
              "      <td>-4.761</td>\n",
              "      <td>1</td>\n",
              "      <td>0.0337</td>\n",
              "      <td>0.220000</td>\n",
              "      <td>0.000000</td>\n",
              "      <td>0.2130</td>\n",
              "      <td>0.4790</td>\n",
              "      <td>138.064</td>\n",
              "      <td>248156</td>\n",
              "      <td>4</td>\n",
              "    </tr>\n",
              "    <tr>\n",
              "      <th>3</th>\n",
              "      <td>5WI2ltQIdwgzf1SNE76JyR</td>\n",
              "      <td>0.444</td>\n",
              "      <td>0.557</td>\n",
              "      <td>0</td>\n",
              "      <td>-5.476</td>\n",
              "      <td>1</td>\n",
              "      <td>0.0602</td>\n",
              "      <td>0.453000</td>\n",
              "      <td>0.000000</td>\n",
              "      <td>0.1520</td>\n",
              "      <td>0.2960</td>\n",
              "      <td>115.058</td>\n",
              "      <td>234910</td>\n",
              "      <td>4</td>\n",
              "    </tr>\n",
              "    <tr>\n",
              "      <th>4</th>\n",
              "      <td>7zFXmv6vqI4qOt4yGf3jYZ</td>\n",
              "      <td>0.658</td>\n",
              "      <td>0.294</td>\n",
              "      <td>4</td>\n",
              "      <td>-8.533</td>\n",
              "      <td>0</td>\n",
              "      <td>0.0321</td>\n",
              "      <td>0.422000</td>\n",
              "      <td>0.000052</td>\n",
              "      <td>0.0749</td>\n",
              "      <td>0.3580</td>\n",
              "      <td>74.038</td>\n",
              "      <td>278180</td>\n",
              "      <td>4</td>\n",
              "    </tr>\n",
              "    <tr>\n",
              "      <th>...</th>\n",
              "      <td>...</td>\n",
              "      <td>...</td>\n",
              "      <td>...</td>\n",
              "      <td>...</td>\n",
              "      <td>...</td>\n",
              "      <td>...</td>\n",
              "      <td>...</td>\n",
              "      <td>...</td>\n",
              "      <td>...</td>\n",
              "      <td>...</td>\n",
              "      <td>...</td>\n",
              "      <td>...</td>\n",
              "      <td>...</td>\n",
              "      <td>...</td>\n",
              "    </tr>\n",
              "    <tr>\n",
              "      <th>80</th>\n",
              "      <td>3ljBzccXOpkHcGejRzHVjK</td>\n",
              "      <td>0.531</td>\n",
              "      <td>0.910</td>\n",
              "      <td>11</td>\n",
              "      <td>-5.397</td>\n",
              "      <td>0</td>\n",
              "      <td>0.4350</td>\n",
              "      <td>0.049500</td>\n",
              "      <td>0.008720</td>\n",
              "      <td>0.1050</td>\n",
              "      <td>0.3760</td>\n",
              "      <td>119.997</td>\n",
              "      <td>429667</td>\n",
              "      <td>4</td>\n",
              "    </tr>\n",
              "    <tr>\n",
              "      <th>81</th>\n",
              "      <td>7I7JbDv63ZJJsSi24DyJrz</td>\n",
              "      <td>0.624</td>\n",
              "      <td>0.691</td>\n",
              "      <td>0</td>\n",
              "      <td>-6.686</td>\n",
              "      <td>0</td>\n",
              "      <td>0.1960</td>\n",
              "      <td>0.060400</td>\n",
              "      <td>0.000011</td>\n",
              "      <td>0.1380</td>\n",
              "      <td>0.2840</td>\n",
              "      <td>160.024</td>\n",
              "      <td>211507</td>\n",
              "      <td>4</td>\n",
              "    </tr>\n",
              "    <tr>\n",
              "      <th>82</th>\n",
              "      <td>71U9X93wy4BQGyvmjFqApv</td>\n",
              "      <td>0.307</td>\n",
              "      <td>0.925</td>\n",
              "      <td>9</td>\n",
              "      <td>-3.918</td>\n",
              "      <td>0</td>\n",
              "      <td>0.0926</td>\n",
              "      <td>0.000094</td>\n",
              "      <td>0.009250</td>\n",
              "      <td>0.3770</td>\n",
              "      <td>0.2610</td>\n",
              "      <td>179.962</td>\n",
              "      <td>217525</td>\n",
              "      <td>4</td>\n",
              "    </tr>\n",
              "    <tr>\n",
              "      <th>83</th>\n",
              "      <td>4BTMGOsnbzI76XYTxAn5K8</td>\n",
              "      <td>0.551</td>\n",
              "      <td>0.517</td>\n",
              "      <td>11</td>\n",
              "      <td>-8.605</td>\n",
              "      <td>0</td>\n",
              "      <td>0.0499</td>\n",
              "      <td>0.826000</td>\n",
              "      <td>0.006590</td>\n",
              "      <td>0.3910</td>\n",
              "      <td>0.1990</td>\n",
              "      <td>140.020</td>\n",
              "      <td>242011</td>\n",
              "      <td>4</td>\n",
              "    </tr>\n",
              "    <tr>\n",
              "      <th>84</th>\n",
              "      <td>4jyU03J2YOhRxgOHit2auK</td>\n",
              "      <td>0.759</td>\n",
              "      <td>0.404</td>\n",
              "      <td>10</td>\n",
              "      <td>-11.802</td>\n",
              "      <td>0</td>\n",
              "      <td>0.0491</td>\n",
              "      <td>0.465000</td>\n",
              "      <td>0.001310</td>\n",
              "      <td>0.0841</td>\n",
              "      <td>0.5810</td>\n",
              "      <td>77.984</td>\n",
              "      <td>201334</td>\n",
              "      <td>4</td>\n",
              "    </tr>\n",
              "  </tbody>\n",
              "</table>\n",
              "<p>4985 rows × 14 columns</p>\n",
              "</div>"
            ],
            "text/plain": [
              "                        id  danceability  ...  duration_ms time_signature\n",
              "0   5aOpzm8W8zysk4asB9hxJw         0.598  ...       262521              4\n",
              "1   4nESnAOALHmxg8UFCCtXhO         0.355  ...       602297              3\n",
              "2   0Ev562zA4pmUsBqjxsxxdx         0.625  ...       248156              4\n",
              "3   5WI2ltQIdwgzf1SNE76JyR         0.444  ...       234910              4\n",
              "4   7zFXmv6vqI4qOt4yGf3jYZ         0.658  ...       278180              4\n",
              "..                     ...           ...  ...          ...            ...\n",
              "80  3ljBzccXOpkHcGejRzHVjK         0.531  ...       429667              4\n",
              "81  7I7JbDv63ZJJsSi24DyJrz         0.624  ...       211507              4\n",
              "82  71U9X93wy4BQGyvmjFqApv         0.307  ...       217525              4\n",
              "83  4BTMGOsnbzI76XYTxAn5K8         0.551  ...       242011              4\n",
              "84  4jyU03J2YOhRxgOHit2auK         0.759  ...       201334              4\n",
              "\n",
              "[4985 rows x 14 columns]"
            ]
          },
          "metadata": {
            "tags": []
          },
          "execution_count": 83
        }
      ]
    },
    {
      "cell_type": "markdown",
      "metadata": {
        "id": "lbB2YMv5P68Y",
        "colab_type": "text"
      },
      "source": [
        "Joining the DataFrame with the IDs with the DataFrame with the audio features."
      ]
    },
    {
      "cell_type": "code",
      "metadata": {
        "id": "oja6Cg8KhggC",
        "colab_type": "code",
        "colab": {}
      },
      "source": [
        "ids_merge = ids_df.merge(features_df,\n",
        "                         left_on='id',\n",
        "                         right_on='id')"
      ],
      "execution_count": 0,
      "outputs": []
    },
    {
      "cell_type": "markdown",
      "metadata": {
        "id": "Qz5Yhd7_QCZd",
        "colab_type": "text"
      },
      "source": [
        "Joining the DataFrame with the IDs and audio features with my streaming history DataFrame."
      ]
    },
    {
      "cell_type": "code",
      "metadata": {
        "id": "Lbs3j6G9LaSb",
        "colab_type": "code",
        "colab": {}
      },
      "source": [
        "final_df = by_song_df.merge(ids_merge,\n",
        "                            left_on = ['trackName', 'artistName'],\n",
        "                            right_on = ['trackName', 'artistName'])"
      ],
      "execution_count": 0,
      "outputs": []
    },
    {
      "cell_type": "code",
      "metadata": {
        "id": "u220pnzhLq_A",
        "colab_type": "code",
        "colab": {}
      },
      "source": [
        "final_df = final_df.drop_duplicates()"
      ],
      "execution_count": 0,
      "outputs": []
    },
    {
      "cell_type": "markdown",
      "metadata": {
        "id": "qBlKJfX2MOnJ",
        "colab_type": "text"
      },
      "source": [
        "Adjust for the length of each song by apporximating the total number of plays."
      ]
    },
    {
      "cell_type": "code",
      "metadata": {
        "id": "Jzj41d40L_W7",
        "colab_type": "code",
        "colab": {}
      },
      "source": [
        "final_df['plays'] = final_df['msPlayed'] / final_df['duration_ms']"
      ],
      "execution_count": 0,
      "outputs": []
    },
    {
      "cell_type": "markdown",
      "metadata": {
        "id": "GtwUu6zceXMT",
        "colab_type": "text"
      },
      "source": [
        "Ordering and filtering the columns."
      ]
    },
    {
      "cell_type": "code",
      "metadata": {
        "id": "9bf9pcREec_o",
        "colab_type": "code",
        "colab": {}
      },
      "source": [
        "final_df = final_df[['trackName',\n",
        "                     'artistName',\n",
        "                     'msPlayed',\n",
        "                     'duration_ms',\n",
        "                     'plays',\n",
        "                     'explicit',\n",
        "                     'popularity',\n",
        "                     'danceability',\n",
        "                     'energy',\n",
        "                     'key',\n",
        "                     'loudness',\n",
        "                     'mode',\n",
        "                     'speechiness',\n",
        "                     'acousticness',\n",
        "                     'instrumentalness',\n",
        "                     'liveness',\n",
        "                     'valence',\n",
        "                     'tempo',\n",
        "                     'time_signature']]"
      ],
      "execution_count": 0,
      "outputs": []
    },
    {
      "cell_type": "markdown",
      "metadata": {
        "id": "eHcl90p3QSgw",
        "colab_type": "text"
      },
      "source": [
        "#The Final DataFrame (Training Set)"
      ]
    },
    {
      "cell_type": "code",
      "metadata": {
        "id": "qLnGv1wtMGgj",
        "colab_type": "code",
        "outputId": "b32e1a65-5039-447a-8054-88378fd0c197",
        "colab": {
          "base_uri": "https://localhost:8080/",
          "height": 366
        }
      },
      "source": [
        "final_df.head()"
      ],
      "execution_count": 89,
      "outputs": [
        {
          "output_type": "execute_result",
          "data": {
            "text/html": [
              "<div>\n",
              "<style scoped>\n",
              "    .dataframe tbody tr th:only-of-type {\n",
              "        vertical-align: middle;\n",
              "    }\n",
              "\n",
              "    .dataframe tbody tr th {\n",
              "        vertical-align: top;\n",
              "    }\n",
              "\n",
              "    .dataframe thead th {\n",
              "        text-align: right;\n",
              "    }\n",
              "</style>\n",
              "<table border=\"1\" class=\"dataframe\">\n",
              "  <thead>\n",
              "    <tr style=\"text-align: right;\">\n",
              "      <th></th>\n",
              "      <th>trackName</th>\n",
              "      <th>artistName</th>\n",
              "      <th>msPlayed</th>\n",
              "      <th>duration_ms</th>\n",
              "      <th>plays</th>\n",
              "      <th>explicit</th>\n",
              "      <th>popularity</th>\n",
              "      <th>danceability</th>\n",
              "      <th>energy</th>\n",
              "      <th>key</th>\n",
              "      <th>loudness</th>\n",
              "      <th>mode</th>\n",
              "      <th>speechiness</th>\n",
              "      <th>acousticness</th>\n",
              "      <th>instrumentalness</th>\n",
              "      <th>liveness</th>\n",
              "      <th>valence</th>\n",
              "      <th>tempo</th>\n",
              "      <th>time_signature</th>\n",
              "    </tr>\n",
              "  </thead>\n",
              "  <tbody>\n",
              "    <tr>\n",
              "      <th>0</th>\n",
              "      <td>Say It (feat. Tove Lo)</td>\n",
              "      <td>Flume</td>\n",
              "      <td>15502360</td>\n",
              "      <td>262521</td>\n",
              "      <td>59.0519</td>\n",
              "      <td>1</td>\n",
              "      <td>62</td>\n",
              "      <td>0.598</td>\n",
              "      <td>0.532</td>\n",
              "      <td>3</td>\n",
              "      <td>-6.833</td>\n",
              "      <td>0</td>\n",
              "      <td>0.0295</td>\n",
              "      <td>0.0668</td>\n",
              "      <td>0.000003</td>\n",
              "      <td>0.0617</td>\n",
              "      <td>0.2610</td>\n",
              "      <td>74.963</td>\n",
              "      <td>4</td>\n",
              "    </tr>\n",
              "    <tr>\n",
              "      <th>1</th>\n",
              "      <td>Freudian</td>\n",
              "      <td>Daniel Caesar</td>\n",
              "      <td>11709180</td>\n",
              "      <td>602297</td>\n",
              "      <td>19.4409</td>\n",
              "      <td>1</td>\n",
              "      <td>54</td>\n",
              "      <td>0.355</td>\n",
              "      <td>0.298</td>\n",
              "      <td>8</td>\n",
              "      <td>-12.277</td>\n",
              "      <td>1</td>\n",
              "      <td>0.0581</td>\n",
              "      <td>0.3100</td>\n",
              "      <td>0.002660</td>\n",
              "      <td>0.1850</td>\n",
              "      <td>0.0714</td>\n",
              "      <td>115.823</td>\n",
              "      <td>3</td>\n",
              "    </tr>\n",
              "    <tr>\n",
              "      <th>2</th>\n",
              "      <td>Feel Good (feat. Daya)</td>\n",
              "      <td>Gryffin</td>\n",
              "      <td>10724803</td>\n",
              "      <td>248156</td>\n",
              "      <td>43.218</td>\n",
              "      <td>0</td>\n",
              "      <td>72</td>\n",
              "      <td>0.625</td>\n",
              "      <td>0.707</td>\n",
              "      <td>2</td>\n",
              "      <td>-4.761</td>\n",
              "      <td>1</td>\n",
              "      <td>0.0337</td>\n",
              "      <td>0.2200</td>\n",
              "      <td>0.000000</td>\n",
              "      <td>0.2130</td>\n",
              "      <td>0.4790</td>\n",
              "      <td>138.064</td>\n",
              "      <td>4</td>\n",
              "    </tr>\n",
              "    <tr>\n",
              "      <th>3</th>\n",
              "      <td>Never Be Like You (feat. Kai)</td>\n",
              "      <td>Flume</td>\n",
              "      <td>8174487</td>\n",
              "      <td>234910</td>\n",
              "      <td>34.7984</td>\n",
              "      <td>1</td>\n",
              "      <td>68</td>\n",
              "      <td>0.444</td>\n",
              "      <td>0.557</td>\n",
              "      <td>0</td>\n",
              "      <td>-5.476</td>\n",
              "      <td>1</td>\n",
              "      <td>0.0602</td>\n",
              "      <td>0.4530</td>\n",
              "      <td>0.000000</td>\n",
              "      <td>0.1520</td>\n",
              "      <td>0.2960</td>\n",
              "      <td>115.058</td>\n",
              "      <td>4</td>\n",
              "    </tr>\n",
              "    <tr>\n",
              "      <th>4</th>\n",
              "      <td>Get You (feat. Kali Uchis)</td>\n",
              "      <td>Daniel Caesar</td>\n",
              "      <td>7469173</td>\n",
              "      <td>278180</td>\n",
              "      <td>26.8501</td>\n",
              "      <td>0</td>\n",
              "      <td>76</td>\n",
              "      <td>0.658</td>\n",
              "      <td>0.294</td>\n",
              "      <td>4</td>\n",
              "      <td>-8.533</td>\n",
              "      <td>0</td>\n",
              "      <td>0.0321</td>\n",
              "      <td>0.4220</td>\n",
              "      <td>0.000052</td>\n",
              "      <td>0.0749</td>\n",
              "      <td>0.3580</td>\n",
              "      <td>74.038</td>\n",
              "      <td>4</td>\n",
              "    </tr>\n",
              "  </tbody>\n",
              "</table>\n",
              "</div>"
            ],
            "text/plain": [
              "                       trackName     artistName  ...    tempo time_signature\n",
              "0         Say It (feat. Tove Lo)          Flume  ...   74.963              4\n",
              "1                       Freudian  Daniel Caesar  ...  115.823              3\n",
              "2         Feel Good (feat. Daya)        Gryffin  ...  138.064              4\n",
              "3  Never Be Like You (feat. Kai)          Flume  ...  115.058              4\n",
              "4     Get You (feat. Kali Uchis)  Daniel Caesar  ...   74.038              4\n",
              "\n",
              "[5 rows x 19 columns]"
            ]
          },
          "metadata": {
            "tags": []
          },
          "execution_count": 89
        }
      ]
    },
    {
      "cell_type": "markdown",
      "metadata": {
        "id": "zxewm2Ujygml",
        "colab_type": "text"
      },
      "source": [
        "#Getting Tracks from my 'Release Radar' Playlist\n",
        "I will be making predictions on songs that have recently been released and reccomended to me. I can use the predictions to see which ones I should listen to and which ones I shouldn't listen to."
      ]
    },
    {
      "cell_type": "code",
      "metadata": {
        "id": "WIpHqd1Ayye-",
        "colab_type": "code",
        "colab": {}
      },
      "source": [
        "release_endpoint = 'https://api.spotify.com/v1/playlists/'\n",
        "params = '37i9dQZEVXbqSLjqzeB9BL/tracks?market=US&limit=15&offset=0'\n",
        "response = requests.get(release_endpoint + params, headers = header)"
      ],
      "execution_count": 0,
      "outputs": []
    },
    {
      "cell_type": "code",
      "metadata": {
        "id": "O50rXLBt2xuV",
        "colab_type": "code",
        "colab": {}
      },
      "source": [
        "def get_artist(json):\n",
        "  return json_normalize(json)['name'].iloc[0]"
      ],
      "execution_count": 0,
      "outputs": []
    },
    {
      "cell_type": "code",
      "metadata": {
        "id": "0tzztG04zEF8",
        "colab_type": "code",
        "colab": {}
      },
      "source": [
        "tracks_df = json_normalize(json_normalize(response.json())['items'].iloc[0])\n",
        "tracks_df['artistName'] = tracks_df['track.artists'].apply(get_artist)\n",
        "tracks_df = tracks_df[['track.id', 'track.name', 'artistName', 'track.popularity', 'track.explicit']]"
      ],
      "execution_count": 0,
      "outputs": []
    },
    {
      "cell_type": "code",
      "metadata": {
        "id": "OzG2kwcU3j8z",
        "colab_type": "code",
        "colab": {}
      },
      "source": [
        "tracks_df.rename({\n",
        "    'track.id': 'id',\n",
        "    'track.name': 'trackName',\n",
        "    'artistName': 'artistName',\n",
        "    'track.popularity': 'popularity',\n",
        "    'track.explicit': 'explicit'\n",
        "},\n",
        "axis = 1,\n",
        "inplace = True)\n",
        "\n",
        "tracks_df['explicit'] = tracks_df['explicit']*1"
      ],
      "execution_count": 0,
      "outputs": []
    },
    {
      "cell_type": "markdown",
      "metadata": {
        "id": "3t-gkZvN4RtD",
        "colab_type": "text"
      },
      "source": [
        "Getting the audio features for these songs."
      ]
    },
    {
      "cell_type": "code",
      "metadata": {
        "id": "kYYmI4lP4J6B",
        "colab_type": "code",
        "colab": {}
      },
      "source": [
        "feat_response = requests.get(features_endpoint+\n",
        "                              ','.join(tracks_df['id'].tolist()),\n",
        "                              headers = header)\n",
        "\n",
        "feat_df = json_normalize(feat_response.json(), 'audio_features')[feat_cols]"
      ],
      "execution_count": 0,
      "outputs": []
    },
    {
      "cell_type": "code",
      "metadata": {
        "id": "TundDp1s4oFk",
        "colab_type": "code",
        "colab": {}
      },
      "source": [
        "final_test_df = tracks_df.merge(feat_df,\n",
        "                                left_on = 'id',\n",
        "                                right_on = 'id')[['trackName',\n",
        "                                                  'artistName',\n",
        "                                                  'explicit',\n",
        "                                                  'popularity',\n",
        "                                                  'danceability',\n",
        "                                                  'energy',\n",
        "                                                  'key',\n",
        "                                                  'loudness',\n",
        "                                                  'mode',\n",
        "                                                  'speechiness',\n",
        "                                                  'acousticness',\n",
        "                                                  'instrumentalness',\n",
        "                                                  'liveness',\n",
        "                                                  'valence',\n",
        "                                                  'tempo',\n",
        "                                                  'time_signature'\n",
        "                                                  ]]"
      ],
      "execution_count": 0,
      "outputs": []
    },
    {
      "cell_type": "code",
      "metadata": {
        "id": "ZVJMTry5nfbn",
        "colab_type": "code",
        "colab": {
          "base_uri": "https://localhost:8080/",
          "height": 978
        },
        "outputId": "3752fb18-400a-41c2-cccc-0961b79c7692"
      },
      "source": [
        "final_test_df"
      ],
      "execution_count": 98,
      "outputs": [
        {
          "output_type": "execute_result",
          "data": {
            "text/html": [
              "<div>\n",
              "<style scoped>\n",
              "    .dataframe tbody tr th:only-of-type {\n",
              "        vertical-align: middle;\n",
              "    }\n",
              "\n",
              "    .dataframe tbody tr th {\n",
              "        vertical-align: top;\n",
              "    }\n",
              "\n",
              "    .dataframe thead th {\n",
              "        text-align: right;\n",
              "    }\n",
              "</style>\n",
              "<table border=\"1\" class=\"dataframe\">\n",
              "  <thead>\n",
              "    <tr style=\"text-align: right;\">\n",
              "      <th></th>\n",
              "      <th>trackName</th>\n",
              "      <th>artistName</th>\n",
              "      <th>explicit</th>\n",
              "      <th>popularity</th>\n",
              "      <th>danceability</th>\n",
              "      <th>energy</th>\n",
              "      <th>key</th>\n",
              "      <th>loudness</th>\n",
              "      <th>mode</th>\n",
              "      <th>speechiness</th>\n",
              "      <th>acousticness</th>\n",
              "      <th>instrumentalness</th>\n",
              "      <th>liveness</th>\n",
              "      <th>valence</th>\n",
              "      <th>tempo</th>\n",
              "      <th>time_signature</th>\n",
              "    </tr>\n",
              "  </thead>\n",
              "  <tbody>\n",
              "    <tr>\n",
              "      <th>0</th>\n",
              "      <td>The Difference</td>\n",
              "      <td>Flume</td>\n",
              "      <td>0</td>\n",
              "      <td>72</td>\n",
              "      <td>0.560</td>\n",
              "      <td>0.865</td>\n",
              "      <td>1</td>\n",
              "      <td>-1.148</td>\n",
              "      <td>1</td>\n",
              "      <td>0.0909</td>\n",
              "      <td>0.25500</td>\n",
              "      <td>0.000153</td>\n",
              "      <td>0.0830</td>\n",
              "      <td>0.424</td>\n",
              "      <td>159.960</td>\n",
              "      <td>4</td>\n",
              "    </tr>\n",
              "    <tr>\n",
              "      <th>1</th>\n",
              "      <td>SUGAR (Remix) [feat. Dua Lipa]</td>\n",
              "      <td>BROCKHAMPTON</td>\n",
              "      <td>0</td>\n",
              "      <td>75</td>\n",
              "      <td>0.661</td>\n",
              "      <td>0.523</td>\n",
              "      <td>8</td>\n",
              "      <td>-5.902</td>\n",
              "      <td>1</td>\n",
              "      <td>0.0381</td>\n",
              "      <td>0.48300</td>\n",
              "      <td>0.000000</td>\n",
              "      <td>0.4690</td>\n",
              "      <td>0.536</td>\n",
              "      <td>122.948</td>\n",
              "      <td>4</td>\n",
              "    </tr>\n",
              "    <tr>\n",
              "      <th>2</th>\n",
              "      <td>DIET_ - A COLORS SHOW</td>\n",
              "      <td>Denzel Curry</td>\n",
              "      <td>1</td>\n",
              "      <td>53</td>\n",
              "      <td>0.799</td>\n",
              "      <td>0.614</td>\n",
              "      <td>1</td>\n",
              "      <td>-10.165</td>\n",
              "      <td>1</td>\n",
              "      <td>0.5250</td>\n",
              "      <td>0.05210</td>\n",
              "      <td>0.000000</td>\n",
              "      <td>0.3670</td>\n",
              "      <td>0.844</td>\n",
              "      <td>90.880</td>\n",
              "      <td>4</td>\n",
              "    </tr>\n",
              "    <tr>\n",
              "      <th>3</th>\n",
              "      <td>Are You Feeling Sad?</td>\n",
              "      <td>Little Dragon</td>\n",
              "      <td>0</td>\n",
              "      <td>64</td>\n",
              "      <td>0.767</td>\n",
              "      <td>0.646</td>\n",
              "      <td>5</td>\n",
              "      <td>-8.612</td>\n",
              "      <td>0</td>\n",
              "      <td>0.0424</td>\n",
              "      <td>0.06160</td>\n",
              "      <td>0.000058</td>\n",
              "      <td>0.3330</td>\n",
              "      <td>0.462</td>\n",
              "      <td>113.006</td>\n",
              "      <td>4</td>\n",
              "    </tr>\n",
              "    <tr>\n",
              "      <th>4</th>\n",
              "      <td>FUN! - SILO x Martin Wave Remix</td>\n",
              "      <td>Vince Staples</td>\n",
              "      <td>0</td>\n",
              "      <td>51</td>\n",
              "      <td>0.766</td>\n",
              "      <td>0.898</td>\n",
              "      <td>10</td>\n",
              "      <td>-4.193</td>\n",
              "      <td>0</td>\n",
              "      <td>0.0561</td>\n",
              "      <td>0.02930</td>\n",
              "      <td>0.000336</td>\n",
              "      <td>0.0900</td>\n",
              "      <td>0.580</td>\n",
              "      <td>101.019</td>\n",
              "      <td>4</td>\n",
              "    </tr>\n",
              "    <tr>\n",
              "      <th>5</th>\n",
              "      <td>Don't Slack (from Trolls World Tour)</td>\n",
              "      <td>Anderson .Paak</td>\n",
              "      <td>0</td>\n",
              "      <td>65</td>\n",
              "      <td>0.617</td>\n",
              "      <td>0.837</td>\n",
              "      <td>9</td>\n",
              "      <td>-5.574</td>\n",
              "      <td>1</td>\n",
              "      <td>0.1150</td>\n",
              "      <td>0.08420</td>\n",
              "      <td>0.000000</td>\n",
              "      <td>0.3440</td>\n",
              "      <td>0.800</td>\n",
              "      <td>168.120</td>\n",
              "      <td>4</td>\n",
              "    </tr>\n",
              "    <tr>\n",
              "      <th>6</th>\n",
              "      <td>Trapped In</td>\n",
              "      <td>REASON</td>\n",
              "      <td>1</td>\n",
              "      <td>49</td>\n",
              "      <td>0.739</td>\n",
              "      <td>0.626</td>\n",
              "      <td>1</td>\n",
              "      <td>-7.814</td>\n",
              "      <td>1</td>\n",
              "      <td>0.3410</td>\n",
              "      <td>0.02310</td>\n",
              "      <td>0.000000</td>\n",
              "      <td>0.1070</td>\n",
              "      <td>0.359</td>\n",
              "      <td>145.917</td>\n",
              "      <td>4</td>\n",
              "    </tr>\n",
              "    <tr>\n",
              "      <th>7</th>\n",
              "      <td>Something Comforting</td>\n",
              "      <td>Porter Robinson</td>\n",
              "      <td>0</td>\n",
              "      <td>65</td>\n",
              "      <td>0.470</td>\n",
              "      <td>0.560</td>\n",
              "      <td>8</td>\n",
              "      <td>-9.707</td>\n",
              "      <td>1</td>\n",
              "      <td>0.0298</td>\n",
              "      <td>0.04490</td>\n",
              "      <td>0.000004</td>\n",
              "      <td>0.0774</td>\n",
              "      <td>0.290</td>\n",
              "      <td>143.987</td>\n",
              "      <td>4</td>\n",
              "    </tr>\n",
              "    <tr>\n",
              "      <th>8</th>\n",
              "      <td>LEGACY</td>\n",
              "      <td>DPR LIVE</td>\n",
              "      <td>0</td>\n",
              "      <td>56</td>\n",
              "      <td>0.850</td>\n",
              "      <td>0.574</td>\n",
              "      <td>4</td>\n",
              "      <td>-6.253</td>\n",
              "      <td>0</td>\n",
              "      <td>0.2630</td>\n",
              "      <td>0.00735</td>\n",
              "      <td>0.000205</td>\n",
              "      <td>0.0908</td>\n",
              "      <td>0.243</td>\n",
              "      <td>149.980</td>\n",
              "      <td>4</td>\n",
              "    </tr>\n",
              "    <tr>\n",
              "      <th>9</th>\n",
              "      <td>tell me tell me</td>\n",
              "      <td>m-flo loves Sik-K &amp; eill &amp; 向井太一</td>\n",
              "      <td>0</td>\n",
              "      <td>54</td>\n",
              "      <td>0.753</td>\n",
              "      <td>0.730</td>\n",
              "      <td>3</td>\n",
              "      <td>-4.020</td>\n",
              "      <td>1</td>\n",
              "      <td>0.1670</td>\n",
              "      <td>0.26300</td>\n",
              "      <td>0.000000</td>\n",
              "      <td>0.0576</td>\n",
              "      <td>0.788</td>\n",
              "      <td>134.985</td>\n",
              "      <td>4</td>\n",
              "    </tr>\n",
              "    <tr>\n",
              "      <th>10</th>\n",
              "      <td>Morocco feat. 6LACK</td>\n",
              "      <td>Alina Baraz</td>\n",
              "      <td>0</td>\n",
              "      <td>65</td>\n",
              "      <td>0.594</td>\n",
              "      <td>0.753</td>\n",
              "      <td>2</td>\n",
              "      <td>-2.566</td>\n",
              "      <td>1</td>\n",
              "      <td>0.0400</td>\n",
              "      <td>0.06270</td>\n",
              "      <td>0.000950</td>\n",
              "      <td>0.1440</td>\n",
              "      <td>0.524</td>\n",
              "      <td>155.959</td>\n",
              "      <td>4</td>\n",
              "    </tr>\n",
              "    <tr>\n",
              "      <th>11</th>\n",
              "      <td>Pressure on Me</td>\n",
              "      <td>Nimbus Vin</td>\n",
              "      <td>1</td>\n",
              "      <td>55</td>\n",
              "      <td>0.540</td>\n",
              "      <td>0.603</td>\n",
              "      <td>9</td>\n",
              "      <td>-8.624</td>\n",
              "      <td>0</td>\n",
              "      <td>0.0394</td>\n",
              "      <td>0.11000</td>\n",
              "      <td>0.000000</td>\n",
              "      <td>0.1140</td>\n",
              "      <td>0.327</td>\n",
              "      <td>140.079</td>\n",
              "      <td>4</td>\n",
              "    </tr>\n",
              "    <tr>\n",
              "      <th>12</th>\n",
              "      <td>Give Me Strength [edit]</td>\n",
              "      <td>Love Regenerator</td>\n",
              "      <td>0</td>\n",
              "      <td>64</td>\n",
              "      <td>0.633</td>\n",
              "      <td>0.918</td>\n",
              "      <td>11</td>\n",
              "      <td>-8.208</td>\n",
              "      <td>0</td>\n",
              "      <td>0.0454</td>\n",
              "      <td>0.03340</td>\n",
              "      <td>0.867000</td>\n",
              "      <td>0.3640</td>\n",
              "      <td>0.786</td>\n",
              "      <td>129.990</td>\n",
              "      <td>4</td>\n",
              "    </tr>\n",
              "    <tr>\n",
              "      <th>13</th>\n",
              "      <td>Hard To Say Goodbye (feat. Chloe Angelides) - ...</td>\n",
              "      <td>Ekali</td>\n",
              "      <td>0</td>\n",
              "      <td>55</td>\n",
              "      <td>0.643</td>\n",
              "      <td>0.638</td>\n",
              "      <td>5</td>\n",
              "      <td>-8.125</td>\n",
              "      <td>1</td>\n",
              "      <td>0.0452</td>\n",
              "      <td>0.06600</td>\n",
              "      <td>0.235000</td>\n",
              "      <td>0.3400</td>\n",
              "      <td>0.214</td>\n",
              "      <td>121.940</td>\n",
              "      <td>4</td>\n",
              "    </tr>\n",
              "    <tr>\n",
              "      <th>14</th>\n",
              "      <td>Red</td>\n",
              "      <td>Rich The Kid</td>\n",
              "      <td>1</td>\n",
              "      <td>70</td>\n",
              "      <td>0.894</td>\n",
              "      <td>0.464</td>\n",
              "      <td>1</td>\n",
              "      <td>-6.618</td>\n",
              "      <td>1</td>\n",
              "      <td>0.3710</td>\n",
              "      <td>0.17500</td>\n",
              "      <td>0.000000</td>\n",
              "      <td>0.2740</td>\n",
              "      <td>0.583</td>\n",
              "      <td>81.084</td>\n",
              "      <td>4</td>\n",
              "    </tr>\n",
              "  </tbody>\n",
              "</table>\n",
              "</div>"
            ],
            "text/plain": [
              "                                            trackName  ... time_signature\n",
              "0                                      The Difference  ...              4\n",
              "1                      SUGAR (Remix) [feat. Dua Lipa]  ...              4\n",
              "2                               DIET_ - A COLORS SHOW  ...              4\n",
              "3                                Are You Feeling Sad?  ...              4\n",
              "4                     FUN! - SILO x Martin Wave Remix  ...              4\n",
              "5                Don't Slack (from Trolls World Tour)  ...              4\n",
              "6                                          Trapped In  ...              4\n",
              "7                                Something Comforting  ...              4\n",
              "8                                              LEGACY  ...              4\n",
              "9                                     tell me tell me  ...              4\n",
              "10                                Morocco feat. 6LACK  ...              4\n",
              "11                                     Pressure on Me  ...              4\n",
              "12                            Give Me Strength [edit]  ...              4\n",
              "13  Hard To Say Goodbye (feat. Chloe Angelides) - ...  ...              4\n",
              "14                                                Red  ...              4\n",
              "\n",
              "[15 rows x 16 columns]"
            ]
          },
          "metadata": {
            "tags": []
          },
          "execution_count": 98
        }
      ]
    }
  ]
}